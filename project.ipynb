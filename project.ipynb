{
 "cells": [
  {
   "cell_type": "code",
   "execution_count": 1,
   "metadata": {
    "tags": []
   },
   "outputs": [
    {
     "name": "stdout",
     "output_type": "stream",
     "text": [
      "/\n"
     ]
    }
   ],
   "source": [
    "import os\n",
    "print(os.getcwd())\n"
   ]
  },
  {
   "cell_type": "code",
   "execution_count": 3,
   "metadata": {
    "tags": []
   },
   "outputs": [
    {
     "name": "stdout",
     "output_type": "stream",
     "text": [
      "Collecting kaggle\n",
      "  Downloading kaggle-1.6.17.tar.gz (82 kB)\n",
      "\u001b[2K     \u001b[90m━━━━━━━━━━━━━━━━━━━━━━━━━━━━━━━━━━━━━━━━\u001b[0m \u001b[32m82.7/82.7 kB\u001b[0m \u001b[31m3.4 MB/s\u001b[0m eta \u001b[36m0:00:00\u001b[0m\n",
      "\u001b[?25h  Preparing metadata (setup.py) ... \u001b[?25ldone\n",
      "\u001b[?25hRequirement already satisfied: six>=1.10 in /opt/conda/miniconda3/lib/python3.11/site-packages (from kaggle) (1.16.0)\n",
      "Requirement already satisfied: certifi>=2023.7.22 in /opt/conda/miniconda3/lib/python3.11/site-packages (from kaggle) (2024.8.30)\n",
      "Requirement already satisfied: python-dateutil in /opt/conda/miniconda3/lib/python3.11/site-packages (from kaggle) (2.9.0)\n",
      "Requirement already satisfied: requests in /opt/conda/miniconda3/lib/python3.11/site-packages (from kaggle) (2.31.0)\n",
      "Requirement already satisfied: tqdm in /opt/conda/miniconda3/lib/python3.11/site-packages (from kaggle) (4.65.0)\n",
      "Requirement already satisfied: python-slugify in /opt/conda/miniconda3/lib/python3.11/site-packages (from kaggle) (8.0.4)\n",
      "Requirement already satisfied: urllib3 in /opt/conda/miniconda3/lib/python3.11/site-packages (from kaggle) (1.26.18)\n",
      "Requirement already satisfied: bleach in /opt/conda/miniconda3/lib/python3.11/site-packages (from kaggle) (6.1.0)\n",
      "Requirement already satisfied: webencodings in /opt/conda/miniconda3/lib/python3.11/site-packages (from bleach->kaggle) (0.5.1)\n",
      "Requirement already satisfied: text-unidecode>=1.3 in /opt/conda/miniconda3/lib/python3.11/site-packages (from python-slugify->kaggle) (1.3)\n",
      "Requirement already satisfied: charset-normalizer<4,>=2 in /opt/conda/miniconda3/lib/python3.11/site-packages (from requests->kaggle) (2.0.4)\n",
      "Requirement already satisfied: idna<4,>=2.5 in /opt/conda/miniconda3/lib/python3.11/site-packages (from requests->kaggle) (3.4)\n",
      "Building wheels for collected packages: kaggle\n",
      "  Building wheel for kaggle (setup.py) ... \u001b[?25ldone\n",
      "\u001b[?25h  Created wheel for kaggle: filename=kaggle-1.6.17-py3-none-any.whl size=105786 sha256=1be70fb76c51bc0f2d18525571d16ff1820f7b1d30988fd5a545fb531eed71b7\n",
      "  Stored in directory: /root/.cache/pip/wheels/ff/55/fb/b27a466be754d2a06ffe0e37b248d844f090a63b51becea85d\n",
      "Successfully built kaggle\n",
      "Installing collected packages: kaggle\n",
      "Successfully installed kaggle-1.6.17\n",
      "\u001b[33mWARNING: Running pip as the 'root' user can result in broken permissions and conflicting behaviour with the system package manager. It is recommended to use a virtual environment instead: https://pip.pypa.io/warnings/venv\u001b[0m\u001b[33m\n",
      "\u001b[0m"
     ]
    }
   ],
   "source": [
    "!pip install kaggle"
   ]
  },
  {
   "cell_type": "code",
   "execution_count": 4,
   "metadata": {
    "tags": []
   },
   "outputs": [
    {
     "name": "stdout",
     "output_type": "stream",
     "text": [
      "mv: cannot stat '/path/to/kaggle.json': No such file or directory\n",
      "chmod: cannot access '/root/.kaggle/kaggle.json': No such file or directory\n"
     ]
    }
   ],
   "source": [
    "!mkdir -p ~/.kaggle\n",
    "!mv /path/to/kaggle.json ~/.kaggle/\n",
    "!chmod 600 ~/.kaggle/kaggle.json\n"
   ]
  },
  {
   "cell_type": "code",
   "execution_count": 5,
   "metadata": {
    "tags": []
   },
   "outputs": [
    {
     "name": "stdout",
     "output_type": "stream",
     "text": [
      "Dataset URL: https://www.kaggle.com/datasets/cnrieiit/mqttset\n"
     ]
    }
   ],
   "source": [
    "'''\n",
    "Task 1\n",
    "Fetch MQTTset from Kaggle\n",
    "'''\n",
    "from kaggle.api.kaggle_api_extended import KaggleApi\n",
    "\n",
    "# Authenticate using Kaggle API\n",
    "api = KaggleApi()\n",
    "api.authenticate()\n",
    "\n",
    "# Download the dataset\n",
    "dataset = 'cnrieiit/mqttset'\n",
    "api.dataset_download_files(dataset, path='.', unzip=True)"
   ]
  },
  {
   "cell_type": "code",
   "execution_count": 1,
   "metadata": {
    "tags": []
   },
   "outputs": [
    {
     "name": "stdout",
     "output_type": "stream",
     "text": [
      "No active SparkSession found.\n"
     ]
    }
   ],
   "source": [
    "import pyspark\n",
    "from pyspark.sql import SparkSession\n",
    "\n",
    "try:\n",
    "    spark = SparkSession.getActiveSession()\n",
    "    if spark is None:\n",
    "        print(\"No active SparkSession found.\")\n",
    "    else:\n",
    "        print(\"An active SparkSession is running.\")\n",
    "except Exception as e:\n",
    "    print(\"Error checking SparkSession:\", e)\n"
   ]
  },
  {
   "cell_type": "code",
   "execution_count": 82,
   "metadata": {
    "tags": []
   },
   "outputs": [
    {
     "name": "stdout",
     "output_type": "stream",
     "text": [
      "help\n"
     ]
    }
   ],
   "source": [
    "print(\"help\")"
   ]
  },
  {
   "cell_type": "code",
   "execution_count": 2,
   "metadata": {
    "tags": []
   },
   "outputs": [
    {
     "name": "stderr",
     "output_type": "stream",
     "text": [
      "Setting default log level to \"WARN\".\n",
      "To adjust logging level use sc.setLogLevel(newLevel). For SparkR, use setLogLevel(newLevel).\n",
      "24/11/14 23:09:28 INFO SparkEnv: Registering MapOutputTracker\n",
      "24/11/14 23:09:28 INFO SparkEnv: Registering BlockManagerMaster\n",
      "24/11/14 23:09:28 INFO SparkEnv: Registering BlockManagerMasterHeartbeat\n",
      "24/11/14 23:09:28 INFO SparkEnv: Registering OutputCommitCoordinator\n"
     ]
    }
   ],
   "source": [
    "'''\n",
    "Task 1\n",
    "Setup SparkSession and test connection to Postgres\n",
    "\n",
    "Note, you don't need all of those jars if you just ssh into the VM and run this command\n",
    "to download the cloud_sql_proxy, and point your Spark Database Connection to localhost:5432\n",
    "\n",
    "wget https://dl.google.com/cloudsql/cloud_sql_proxy.linux.amd64 -O cloud_sql_proxy\n",
    "chmod +x cloud_sql_proxy\n",
    "./cloud_sql_proxy -instances=systool-436201:us-east1:projectdb=tcp:5432 &\n",
    "\n",
    "That instance is specific to my project, but you get the idea\n",
    "'''\n",
    "import pyspark\n",
    "from pyspark.sql import SparkSession\n",
    "from pyspark.sql.functions import lit \n",
    "\n",
    "\n",
    "# Define dataset, spark constants\n",
    "APPNAME = 'Roberts_Systool_Project'\n",
    "MASTER = 'yarn'\n",
    "JDBC_JAR_PATHS = [\n",
    "    \"home/jroberts1187/course-project-option-2-aitechroberts/postgresql-42.7.4.jar\",\n",
    "]\n",
    "\n",
    "# JDBC_URL = 'jdbc:postgresql://104.196.99.150:5432/projectdb' CloudSQL URL\n",
    "'''\n",
    "Point all nodes (master and workers) to local host to run through each of their own CloudSQL Proxies\n",
    "'''\n",
    "JDBC_URL = 'jdbc:postgresql://127.0.0.1:5432/postgres'\n",
    "DB_PROPERTIES = {\n",
    "    \"user\": \"postgres\",\n",
    "    \"password\": \"postgres_pw\",\n",
    "    \"driver\": \"org.postgresql.Driver\",\n",
    "    \"batchsize\": \"10000\" # trying to optimize the write and seems to have cut the time in half\n",
    "}\n",
    "\n",
    "# Initialize Spark session with PostgreSQL JDBC driver\n",
    "spark = SparkSession.builder \\\n",
    "    .appName(APPNAME) \\\n",
    "    .master(MASTER) \\\n",
    "    .config('spark.jars',JDBC_JAR_PATHS[0]) \\\n",
    "    .config(\"spark.executor.memory\", \"8g\") \\\n",
    "    .config(\"spark.driver.memory\", \"8g\") \\\n",
    "    .config(\"spark.serializer\", \"org.apache.spark.serializer.KryoSerializer\") \\\n",
    "    .config(\"spark.kryoserializer.buffer.max\", \"512m\") \\\n",
    "    .getOrCreate()\n",
    "\n",
    "# Local Spark Configuration\n",
    "# # Initialize Spark session with PostgreSQL JDBC driver\n",
    "# spark = SparkSession.builder \\\n",
    "#     .appName(APPNAME) \\\n",
    "#     .master(MASTER)\\\n",
    "#     .config('spark.driver.host','127.0.0.1')\\  \n",
    "#     .config(\"spark.jars\", JDBC_JAR_PATHS[0]) \\\n",
    "#     .config(\"spark.driver.memory\", \"4g\") \\  \n",
    "#     .config(\"spark.executor.memory\", \"3g\") \\\n",
    "#     .getOrCreate()\n",
    "\n",
    "# df = spark.read.jdbc(url=JDBC_URL, table=\"mqtt\", properties=DB_PROPERTIES)\n",
    "# df.show()"
   ]
  },
  {
   "cell_type": "code",
   "execution_count": 3,
   "metadata": {
    "tags": []
   },
   "outputs": [],
   "source": [
    "spark.stop()\n",
    "# SparkContext.stop()"
   ]
  },
  {
   "cell_type": "code",
   "execution_count": 3,
   "metadata": {
    "tags": []
   },
   "outputs": [
    {
     "name": "stdout",
     "output_type": "stream",
     "text": [
      "+---+\n",
      "| id|\n",
      "+---+\n",
      "|  0|\n",
      "|  1|\n",
      "|  2|\n",
      "|  3|\n",
      "|  4|\n",
      "+---+\n",
      "only showing top 5 rows\n",
      "\n"
     ]
    }
   ],
   "source": [
    "simple_df = spark.range(1000)\n",
    "simple_df.show(5)\n"
   ]
  },
  {
   "cell_type": "code",
   "execution_count": 3,
   "metadata": {
    "tags": []
   },
   "outputs": [
    {
     "name": "stderr",
     "output_type": "stream",
     "text": [
      "                                                                                \r"
     ]
    },
    {
     "name": "stdout",
     "output_type": "stream",
     "text": [
      "+---+\n",
      "|val|\n",
      "+---+\n",
      "|  3|\n",
      "+---+\n",
      "\n",
      "Connection to PostgreSQL database successful!\n"
     ]
    }
   ],
   "source": [
    "JDBC_URL = 'jdbc:postgresql://127.0.0.1:5432/postgres'\n",
    "# Add the JAR to the current SparkSession\n",
    "DB_PROPERTIES = {\n",
    "    \"user\": \"postgres\",\n",
    "    \"password\": \"postgres_pw\",\n",
    "    \"driver\": \"org.postgresql.Driver\",\n",
    "    \"connectTimeout\": \"10\",\n",
    "    \"batchsize\": \"10000\" # trying to optimize the write and seems to have cut the time in half in local\n",
    "}\n",
    "\n",
    "try:\n",
    "    df = spark.read.jdbc(url=JDBC_URL, table='test', properties=DB_PROPERTIES)\n",
    "    df.show()  # This should display a single row with \"3\" if the connection is successful\n",
    "    print(\"Connection to PostgreSQL database successful!\")\n",
    "except Exception as e:\n",
    "    print(\"Failed to connect to PostgreSQL database:\", e)"
   ]
  },
  {
   "cell_type": "code",
   "execution_count": 18,
   "metadata": {
    "tags": []
   },
   "outputs": [
    {
     "name": "stderr",
     "output_type": "stream",
     "text": [
      "                                                                                \r"
     ]
    }
   ],
   "source": [
    "'''\n",
    "Task 1\n",
    "Ingest data with Spark and write to Postgres\n",
    "\n",
    "Creates a dictionary for data files and associated data category,\n",
    "then loops over both values using .items() method\n",
    "\n",
    "In the loop, it dynamically changes the data category and write mode\n",
    "based on where the code executes in the loop. First loop overwrites\n",
    "to create table and schema if not already exists. Second loop appends\n",
    "\n",
    "Trying optimizations for fun, repartitioning with the rule of thumb of\n",
    "2x the number of cores and using 3 of the 4 cores while leaving 1 for\n",
    "other processes increased speed by about 55-60% from 12mins to about\n",
    "5.75mins. Including batchsize of 10,000 also just about cut the time\n",
    "in half from there down to right at 2 minutes and 45 seconds.\n",
    "'''\n",
    "import os\n",
    "\n",
    "\n",
    "COL_NAMES = [\n",
    "    'tcp_flags', 'tcp_time_delta', 'tcp_len', 'mqtt_conack_flags', \n",
    "    'mqtt_conack_flags_reserved', 'mqtt_conack_flags_sp', 'mqtt_conack_val', \n",
    "    'mqtt_conflag_cleansess', 'mqtt_conflag_passwd', 'mqtt_conflag_qos', \n",
    "    'mqtt_conflag_reserved', 'mqtt_conflag_retain', 'mqtt_conflag_uname', \n",
    "    'mqtt_conflag_willflag', 'mqtt_conflags', 'mqtt_dupflag', 'mqtt_hdrflags', \n",
    "    'mqtt_kalive', 'mqtt_len', 'mqtt_msg', 'mqtt_msgid', 'mqtt_msgtype', \n",
    "    'mqtt_proto_len', 'mqtt_protoname', 'mqtt_qos', 'mqtt_retain', \n",
    "    'mqtt_sub_qos', 'mqtt_suback_qos', 'mqtt_ver', 'mqtt_willmsg', \n",
    "    'mqtt_willmsg_len', 'mqtt_willtopic', 'mqtt_willtopic_len', 'target'\n",
    "]\n",
    "\n",
    "# LOCAL_DATA_FOLDER = \"./Data/FINAL_CSV\" # won't change due to mqttset zip\n",
    "HDFS_DATA_FOLDER = \"hdfs://cluster-893d-m/user/hadoop/Data/FINAL_CSV\"\n",
    "\n",
    "data_files = {\n",
    "    'train70_augmented.csv': 'train',\n",
    "    'test30_augmented.csv': 'test'\n",
    "}\n",
    "overwrite = True\n",
    "for file, set_type_value in data_files.items():\n",
    "    # Use the 'file://' prefix to ensure Spark reads from the local file system rather than searching HDFS because I didn't put the data there.\n",
    "    file_path = os.path.join(HDFS_DATA_FOLDER, file)\n",
    "    \n",
    "    # Read CSV file\n",
    "    df = spark.read.csv(file_path, header=False, inferSchema=True).toDF(*COL_NAMES)\n",
    "    \n",
    "    # Read the CSV with header\n",
    "    df = spark.read.csv(file_path, header=True, inferSchema=True)\n",
    "\n",
    "    # Rename columns to match COL_NAMES\n",
    "    for old_name, new_name in zip(df.columns, COL_NAMES):\n",
    "        df = df.withColumnRenamed(old_name, new_name)\n",
    "        \n",
    "    # Add 'set_type' column and dataset value of 'train' or 'test' based on place in dictionary loop\n",
    "    df = df.withColumn('set_type', lit(set_type_value))\n",
    "    \n",
    "    df.repartition(16)\n",
    "    # Show first row for verification\n",
    "    # df.show(1)\n",
    "    \n",
    "    # Overwrite on the first loop and append on the rest\n",
    "    write_mode = 'overwrite' if overwrite else 'append'\n",
    "    \n",
    "    # Write data to Postgres\n",
    "    df.write.jdbc(url=JDBC_URL, \n",
    "                  table=\"mqtt\", \n",
    "                  mode=write_mode, \n",
    "                  properties=DB_PROPERTIES,\n",
    "                  )\n",
    "    \n",
    "    # Set overwrite to False after the first write\n",
    "    if overwrite:\n",
    "        overwrite = False"
   ]
  },
  {
   "cell_type": "code",
   "execution_count": null,
   "metadata": {},
   "outputs": [],
   "source": [
    "spark.stop()"
   ]
  },
  {
   "cell_type": "code",
   "execution_count": 4,
   "metadata": {
    "tags": []
   },
   "outputs": [],
   "source": [
    "'''\n",
    "Task 2\n",
    "Ingest Data from Postgres into Spark for Data Analysis\n",
    "'''\n",
    "num_partitions = 16 # Adjust based on your environment which is 8 cores on Dataproc currently\n",
    "mqtt_df = spark.read.jdbc(url=JDBC_URL,\n",
    "                          table=\"mqtt\",\n",
    "                          properties=DB_PROPERTIES,\n",
    "                          numPartitions=num_partitions,\n",
    "                          )\n"
   ]
  },
  {
   "cell_type": "code",
   "execution_count": 5,
   "metadata": {
    "tags": []
   },
   "outputs": [
    {
     "name": "stderr",
     "output_type": "stream",
     "text": [
      "[Stage 1:>                                                          (0 + 1) / 1]\r"
     ]
    },
    {
     "name": "stdout",
     "output_type": "stream",
     "text": [
      "Shape: 20000000, 35\n"
     ]
    },
    {
     "name": "stderr",
     "output_type": "stream",
     "text": [
      "                                                                                \r"
     ]
    }
   ],
   "source": [
    "# Number of rows\n",
    "num_rows = mqtt_df.count()\n",
    "\n",
    "# Number of columns\n",
    "num_cols = len(mqtt_df.columns)\n",
    "\n",
    "print(f\"Shape: {num_rows}, {num_cols}\")"
   ]
  },
  {
   "cell_type": "code",
   "execution_count": 9,
   "metadata": {
    "tags": []
   },
   "outputs": [
    {
     "name": "stdout",
     "output_type": "stream",
     "text": [
      "root\n",
      " |-- tcp_flags: string (nullable = true)\n",
      " |-- tcp_time_delta: double (nullable = true)\n",
      " |-- tcp_len: integer (nullable = true)\n",
      " |-- mqtt_conack_flags: string (nullable = true)\n",
      " |-- mqtt_conack_flags_reserved: double (nullable = true)\n",
      " |-- mqtt_conack_flags_sp: double (nullable = true)\n",
      " |-- mqtt_conack_val: double (nullable = true)\n",
      " |-- mqtt_conflag_cleansess: double (nullable = true)\n",
      " |-- mqtt_conflag_passwd: double (nullable = true)\n",
      " |-- mqtt_conflag_qos: double (nullable = true)\n",
      " |-- mqtt_conflag_reserved: double (nullable = true)\n",
      " |-- mqtt_conflag_retain: double (nullable = true)\n",
      " |-- mqtt_conflag_uname: double (nullable = true)\n",
      " |-- mqtt_conflag_willflag: double (nullable = true)\n",
      " |-- mqtt_conflags: string (nullable = true)\n",
      " |-- mqtt_dupflag: double (nullable = true)\n",
      " |-- mqtt_hdrflags: string (nullable = true)\n",
      " |-- mqtt_kalive: double (nullable = true)\n",
      " |-- mqtt_len: double (nullable = true)\n",
      " |-- mqtt_msg: string (nullable = true)\n",
      " |-- mqtt_msgid: double (nullable = true)\n",
      " |-- mqtt_msgtype: double (nullable = true)\n",
      " |-- mqtt_proto_len: double (nullable = true)\n",
      " |-- mqtt_protoname: string (nullable = true)\n",
      " |-- mqtt_qos: double (nullable = true)\n",
      " |-- mqtt_retain: double (nullable = true)\n",
      " |-- mqtt_sub_qos: double (nullable = true)\n",
      " |-- mqtt_suback_qos: double (nullable = true)\n",
      " |-- mqtt_ver: double (nullable = true)\n",
      " |-- mqtt_willmsg: double (nullable = true)\n",
      " |-- mqtt_willmsg_len: double (nullable = true)\n",
      " |-- mqtt_willtopic: double (nullable = true)\n",
      " |-- mqtt_willtopic_len: double (nullable = true)\n",
      " |-- target: string (nullable = true)\n",
      " |-- set_type: string (nullable = true)\n",
      "\n"
     ]
    }
   ],
   "source": [
    "mqtt_df.printSchema()\n",
    "\n",
    "# print target col values\n",
    "# mqtt_df.select(\"target\").distinct().show(truncate=False)"
   ]
  },
  {
   "cell_type": "code",
   "execution_count": 104,
   "metadata": {
    "tags": []
   },
   "outputs": [
    {
     "name": "stderr",
     "output_type": "stream",
     "text": [
      "[Stage 26:>                                                         (0 + 1) / 1]\r"
     ]
    },
    {
     "name": "stdout",
     "output_type": "stream",
     "text": [
      "Average MQTT message length is: 83.76\n"
     ]
    },
    {
     "name": "stderr",
     "output_type": "stream",
     "text": [
      "                                                                                \r"
     ]
    }
   ],
   "source": [
    "'''\n",
    "Task 2 \n",
    "1. Find the average length of an MQTT message captured in\n",
    "the training dataset for a given target X?\n",
    "\n",
    "Also trying to use best practices in defining functions for employers\n",
    "Most analytics will be on the test set when possible to limit processing\n",
    "when possible and should be large enough, but data engineering will require the whole dataset\n",
    "'''\n",
    "from pyspark.sql.functions import col, avg, length\n",
    "\n",
    "\n",
    "def get_average_len(df, type_set='train', target=None):\n",
    "    '''\n",
    "    Function filters the dataset as much as possible using input parameters\n",
    "    then aggregates the average mqtt message length and returns that integer value\n",
    "\n",
    "    :param set: 'train' or 'test' in mqtt_df\n",
    "    :param target: 'slowite', 'bruteforce', 'flood', 'malformed', 'dos', 'legitimate'\n",
    "    \n",
    "    return: int\n",
    "    '''\n",
    "    if type_set not in ('test', 'train'):\n",
    "        raise ValueError(\"set parameter must be 'train' or 'test'\")\n",
    "    elif target not in ('slowite', 'bruteforce', 'flood', 'malformed', 'dos', 'legitimate'):\n",
    "        raise ValueError(\"target parameter must be one of these: 'slowite', 'bruteforce', 'flood', 'malformed', 'dos', 'legitimate'\")\n",
    "    \n",
    "    '''\n",
    "    I think it would be get to .cache() and unpersist(), but I'm afraid I'll break local memory\n",
    "    so I'll also filter and select to make dataframe as small as possible beforehand\n",
    "    '''\n",
    "    len_df = df.filter((col('set_type') == type_set) & (col('target') == target)).select('mqtt_msg').cache()\n",
    "    \n",
    "    # get the right column, then len of values in column, then average, all in an aggregate Spark action method, and .agg() requires .alias()\n",
    "    avg_len = len_df.agg(avg(length(col('mqtt_msg'))).alias('average_length')).collect()\n",
    "    len_df.unpersist()\n",
    "    return avg_len[0]['average_length']\n",
    "\n",
    "print(f\"Average MQTT message length is: {get_average_len(mqtt_df, target='dos'):.2f}\")"
   ]
  },
  {
   "cell_type": "code",
   "execution_count": 117,
   "metadata": {
    "tags": []
   },
   "outputs": [
    {
     "name": "stderr",
     "output_type": "stream",
     "text": [
      "24/11/11 19:35:09 WARN CacheManager: Asked to cache already cached data.        \n",
      "24/11/11 19:35:09 WARN CacheManager: Asked to cache already cached data.\n"
     ]
    },
    {
     "name": "stdout",
     "output_type": "stream",
     "text": [
      "['malformed', 'slowite', 'bruteforce', 'legitimate', 'dos', 'flood']\n",
      "malformed\n",
      "running through function\n",
      "0x00000030\n",
      "1.7946348733233979\n",
      "slowite\n"
     ]
    },
    {
     "name": "stderr",
     "output_type": "stream",
     "text": [
      "                                                                                \r"
     ]
    },
    {
     "name": "stdout",
     "output_type": "stream",
     "text": [
      "running through function\n",
      "0\n",
      "1.335095567303782\n",
      "bruteforce\n"
     ]
    },
    {
     "name": "stderr",
     "output_type": "stream",
     "text": [
      "                                                                                \r"
     ]
    },
    {
     "name": "stdout",
     "output_type": "stream",
     "text": [
      "running through function\n",
      "0x00000010\n",
      "1.5\n",
      "legitimate\n"
     ]
    },
    {
     "name": "stderr",
     "output_type": "stream",
     "text": [
      "                                                                                \r"
     ]
    },
    {
     "name": "stdout",
     "output_type": "stream",
     "text": [
      "running through function\n",
      "0x00000030\n",
      "1.9717988709457337\n",
      "dos\n"
     ]
    },
    {
     "name": "stderr",
     "output_type": "stream",
     "text": [
      "                                                                                \r"
     ]
    },
    {
     "name": "stdout",
     "output_type": "stream",
     "text": [
      "running through function\n",
      "0x00000040\n",
      "2.418047699773572\n",
      "flood\n"
     ]
    },
    {
     "name": "stderr",
     "output_type": "stream",
     "text": [
      "                                                                                \r"
     ]
    },
    {
     "name": "stdout",
     "output_type": "stream",
     "text": [
      "running through function\n",
      "0x00000030\n",
      "4.842741935483871\n",
      "Average TCP message length for target value malformed is: 1.79 \n",
      " and the most popular header value for malformed is: 0x00000030\n",
      "Average TCP message length for target value slowite is: 1.34 \n",
      " and the most popular header value for slowite is: 0\n",
      "Average TCP message length for target value bruteforce is: 1.50 \n",
      " and the most popular header value for bruteforce is: 0x00000010\n",
      "Average TCP message length for target value legitimate is: 1.97 \n",
      " and the most popular header value for legitimate is: 0x00000030\n",
      "Average TCP message length for target value dos is: 2.42 \n",
      " and the most popular header value for dos is: 0x00000040\n",
      "Average TCP message length for target value flood is: 4.84 \n",
      " and the most popular header value for flood is: 0x00000030\n"
     ]
    }
   ],
   "source": [
    "'''\n",
    "Task 2 \n",
    "2. For each target value, \n",
    "1) what is the average length of TCP messages and \n",
    "2) what is the most popular header flags’ code (mqtt.hdrflags)?\n",
    "\n",
    "Given the task, it seems no other parameters are necessary\n",
    "'''\n",
    "from pyspark.sql.functions import col, avg, length\n",
    "\n",
    "\n",
    "def get_all_avg_tcp_len(df):\n",
    "    '''\n",
    "    Function loops over each unique value in the target column\n",
    "    to add the average tcp message length to a dictionary and\n",
    "    returns a dictionary with the avg tcp message length for\n",
    "    each target value and that target's most popular hdrflag\n",
    "    placed in a dictionary of tuples where [0]=tcp_len and\n",
    "    [1]=popular_header \n",
    "\n",
    "    Example: {'target':(50, 'hdrflag_val')}\n",
    "\n",
    "    return: dict\n",
    "    '''\n",
    "    answer = {}\n",
    "    targets = [row[0] for row in mqtt_df.select('target').distinct().collect()]\n",
    "    targets = targets[1:]\n",
    "    # filters for tcp messages and pulls only necessary columns\n",
    "    tcp_df = df.filter((col('tcp_len') != 0)  & (col('mqtt_hdrflags').isNotNull())).select('target', 'tcp_len', 'mqtt_hdrflags').cache()\n",
    "    \n",
    "    print(targets)\n",
    "    # Loop over every unique value in target column to get avg tcp_len and top mqtt_hdrflag value\n",
    "    for target in targets:\n",
    "        print(target)\n",
    "        # Filter by target, then get average length\n",
    "        target_df = tcp_df.filter(col('target') == target).cache()\n",
    "                         \n",
    "        tcp_len = target_df.agg(avg(length(col('tcp_len'))).alias('average_length')).collect()\n",
    "        pop_hdr = target_df.groupBy('mqtt_hdrflags').count().orderBy(col('count').desc()).first()\n",
    "        \n",
    "#         # If no mqtt_hdrflags were found, set a default value for pop_hdr\n",
    "#         if pop_hdr:\n",
    "#             hdrflag_val = pop_hdr['mqtt_hdrflags']\n",
    "#         else:\n",
    "#             hdrflag_val = \"No hdrflags found\"\n",
    "        \n",
    "        answer[target] = (tcp_len[0]['average_length'], pop_hdr['mqtt_hdrflags'])\n",
    "        print(\"running through function\")\n",
    "        print(pop_hdr['mqtt_hdrflags'])\n",
    "        print(tcp_len[0]['average_length'])\n",
    "        target_df.unpersist()\n",
    "    # get the right column, then len of values in column, then average, all in an aggregate Spark action method, and .agg() requires .alias()\n",
    "    tcp_df.unpersist()\n",
    "    return answer\n",
    "\n",
    "ans = get_all_avg_tcp_len(mqtt_df)\n",
    "keys = ans.keys()\n",
    "for key in keys:\n",
    "    print(f\"Average TCP message length for target value {key} is: {ans[key][0]:.2f} \\n and the most popular header value for {key} is: {ans[key][1]}\")"
   ]
  },
  {
   "cell_type": "code",
   "execution_count": 118,
   "metadata": {
    "tags": []
   },
   "outputs": [
    {
     "name": "stderr",
     "output_type": "stream",
     "text": [
      "                                                                                \r"
     ]
    },
    {
     "name": "stdout",
     "output_type": "stream",
     "text": [
      "The most frequenXt flags for tcp_time_delta < Y are:\n",
      "0x00000010\n",
      "0x00000018\n",
      "0x00000002\n",
      "0x00000011\n"
     ]
    }
   ],
   "source": [
    "'''\n",
    "Task 2. \n",
    "3. What is the most frequent X TCP flags for traffic with TCP time delta that is smaller than or equal to Y.\n",
    "- [] X represents a positive integer. Handle scenarios where a user may send\n",
    "negative values to your function.\n",
    "- [] Y represents a float value between 0.0 and 5.0.\n",
    "- [] Make sure to handle this scenario as well: if the user requests 5 most frequent TCP flags but there are 3 Flags that share the same count at rank number 5, please include all of them in your output.\n",
    "\n",
    "Believing that most frequent X means top X(int) TCP Flags and ranks were not asked for, funtion returns a list of flags\n",
    "'''\n",
    "\n",
    "def get_most_frequent_flags(df, X: int, Y: float):\n",
    "    '''\n",
    "    Function filters for tcp_flags and tcp_time_delta to minimize data\n",
    "    for processing. Handles errors by raisng ValueErrors and includes rank\n",
    "    ties as they appear.\n",
    "\n",
    "    return: list\n",
    "    '''\n",
    "    if 0 >= X:\n",
    "        raise ValueError(\"X must be a positive integer.\")\n",
    "    if not (5.0 >= Y >= 0.0):\n",
    "        raise ValueError(\"Y must be a float between 0.0 and 5.0.\")\n",
    "    \n",
    "    # Filter by tcp_time_delta less than Y, then count values in tcp_flags and collect rows\n",
    "    flags_df = df.filter(col('tcp_time_delta') <= Y).select('tcp_flags')\n",
    "    desc_flags = flags_df.groupBy('tcp_flags').count().orderBy(col('count').desc()).collect()\n",
    "\n",
    "    top_flags = []\n",
    "    for i, row in enumerate(desc_flags):\n",
    "        # Continue until X int is reached or if the previous row count equals the current row counts to add ties\n",
    "        if X > i or row['count'] == desc_flags[i - 1]['count']:\n",
    "            top_flags.append(row['tcp_flags'])\n",
    "    return top_flags\n",
    "\n",
    "flags = get_most_frequent_flags(mqtt_df, X=4, Y=.003)\n",
    "print('The most frequent flags for tcp_time_delta < Y are:')\n",
    "for flag in flags:\n",
    "    print(f'{flag}') "
   ]
  },
  {
   "cell_type": "code",
   "execution_count": 10,
   "metadata": {
    "tags": []
   },
   "outputs": [
    {
     "name": "stderr",
     "output_type": "stream",
     "text": [
      "                                                                                \r"
     ]
    },
    {
     "data": {
      "image/png": "[encoded data removed]",
      "text/plain": [
       "<Figure size 1000x600 with 1 Axes>"
      ]
     },
     "metadata": {},
     "output_type": "display_data"
    }
   ],
   "source": [
    "'''\n",
    "Task 2.\n",
    "4. Show a histogram for the target values in the training, testing or combined\n",
    "dataset.\n",
    "- [] Your code should accept an argument that defines if the histogram is\n",
    "shown for the training, testing or combined.\n",
    "'''\n",
    "import matplotlib.pyplot as plt\n",
    "import pandas as pd\n",
    "from pyspark.sql.functions import col, avg, length\n",
    "\n",
    "\n",
    "def create_target_hist(df, set_type='test'):\n",
    "    '''\n",
    "    Function ensures correct parameters, filters for the target column\n",
    "    based on the set_type: 'test', 'train' or combined. Puts values\n",
    "    from target column into list. Then creates a histogram\n",
    "\n",
    "    return: None\n",
    "    '''\n",
    "    if set_type not in ('test', 'train', 'combined'):\n",
    "        raise ValueError(\"set parameter must be 'train', 'test' or 'combined'\")\n",
    "\n",
    "    # if set_type != 'combined':\n",
    "    #     hist_df = df.filter(col('set_type') == set_type).select('target')\n",
    "    # else:\n",
    "    #     hist_df = df.select('target')\n",
    "        \n",
    "    if set_type != 'combined':\n",
    "        hist_df = df.filter((col('set_type') == set_type) & (col('target') != 'target')).select('target')\n",
    "    else:\n",
    "        hist_df = df.filter(col('target') != 'target').select('target')\n",
    "\n",
    "    # test_df = spark.createDataFrame([(\"example\",), (\"test\",)], [\"target\"])\n",
    "    # test_pdf = test_df.toPandas()\n",
    "    # print(test_pdf)\n",
    "\n",
    "    # Convert to Pandas DataFrame\n",
    "    pdf = hist_df.limit(100).toPandas()\n",
    "    # Plot the histogram\n",
    "    plt.figure(figsize=(10, 6))\n",
    "    pdf['target'].value_counts().plot(kind='bar', edgecolor='black')\n",
    "    plt.title(f'Target Value Distribution ({set_type.capitalize()} Set)')\n",
    "    plt.xlabel('Target Values')\n",
    "    plt.ylabel('Frequency')\n",
    "    plt.xticks(rotation=45)  # Rotate x-axis labels if needed\n",
    "    plt.tight_layout()  # Adjust layout to prevent label overlap\n",
    "    plt.show()\n",
    "\n",
    "# create_target_hist(mqtt_df)\n",
    "# create_target_hist(mqtt_df, set_type='train')\n",
    "create_target_hist(mqtt_df, set_type='combined')\n"
   ]
  },
  {
   "cell_type": "code",
   "execution_count": 2,
   "metadata": {
    "tags": []
   },
   "outputs": [
    {
     "ename": "NameError",
     "evalue": "name 'spark' is not defined",
     "output_type": "error",
     "traceback": [
      "\u001b[0;31m---------------------------------------------------------------------------\u001b[0m",
      "\u001b[0;31mNameError\u001b[0m                                 Traceback (most recent call last)",
      "Cell \u001b[0;32mIn[2], line 1\u001b[0m\n\u001b[0;32m----> 1\u001b[0m \u001b[43mspark\u001b[49m\u001b[38;5;241m.\u001b[39mstop()\n",
      "\u001b[0;31mNameError\u001b[0m: name 'spark' is not defined"
     ]
    }
   ],
   "source": [
    "spark.stop()"
   ]
  },
  {
   "cell_type": "code",
   "execution_count": 22,
   "metadata": {
    "tags": []
   },
   "outputs": [
    {
     "name": "stderr",
     "output_type": "stream",
     "text": [
      "[Stage 774:>                                                        (0 + 1) / 1]\r"
     ]
    },
    {
     "name": "stdout",
     "output_type": "stream",
     "text": [
      "[{'Feature': 'tcp_flags', 'Observations': 20000000, 'Unique Values': 8, 'Variable Type': 'string', '1st Value Density (%)': 49.528214999999996, 'Feature Type': 'Categorical'}, {'Feature': 'mqtt_conack_flags', 'Observations': 20000000, 'Unique Values': 2, 'Variable Type': 'string', '1st Value Density (%)': 97.21346, 'Feature Type': 'Flag'}, {'Feature': 'mqtt_conack_flags_reserved', 'Observations': 20000000, 'Unique Values': 1, 'Variable Type': 'double', '1st Value Density (%)': 100.0, 'Feature Type': 'Superfluous'}, {'Feature': 'mqtt_conack_flags_sp', 'Observations': 20000000, 'Unique Values': 1, 'Variable Type': 'double', '1st Value Density (%)': 100.0, 'Feature Type': 'Superfluous'}, {'Feature': 'mqtt_conack_val', 'Observations': 20000000, 'Unique Values': 2, 'Variable Type': 'double', '1st Value Density (%)': 99.00571000000001, 'Feature Type': 'Flag'}, {'Feature': 'mqtt_conflag_cleansess', 'Observations': 20000000, 'Unique Values': 2, 'Variable Type': 'double', '1st Value Density (%)': 97.20971, 'Feature Type': 'Flag'}, {'Feature': 'mqtt_conflag_passwd', 'Observations': 20000000, 'Unique Values': 2, 'Variable Type': 'double', '1st Value Density (%)': 99.01143, 'Feature Type': 'Flag'}, {'Feature': 'mqtt_conflag_qos', 'Observations': 20000000, 'Unique Values': 1, 'Variable Type': 'double', '1st Value Density (%)': 100.0, 'Feature Type': 'Superfluous'}, {'Feature': 'mqtt_conflag_reserved', 'Observations': 20000000, 'Unique Values': 1, 'Variable Type': 'double', '1st Value Density (%)': 100.0, 'Feature Type': 'Superfluous'}, {'Feature': 'mqtt_conflag_retain', 'Observations': 20000000, 'Unique Values': 1, 'Variable Type': 'double', '1st Value Density (%)': 100.0, 'Feature Type': 'Superfluous'}, {'Feature': 'mqtt_conflag_uname', 'Observations': 20000000, 'Unique Values': 2, 'Variable Type': 'double', '1st Value Density (%)': 99.00856999999999, 'Feature Type': 'Flag'}, {'Feature': 'mqtt_conflag_willflag', 'Observations': 20000000, 'Unique Values': 1, 'Variable Type': 'double', '1st Value Density (%)': 100.0, 'Feature Type': 'Superfluous'}, {'Feature': 'mqtt_conflags', 'Observations': 20000000, 'Unique Values': 4, 'Variable Type': 'string', '1st Value Density (%)': 97.20971, 'Feature Type': 'Categorical'}, {'Feature': 'mqtt_dupflag', 'Observations': 20000000, 'Unique Values': 2, 'Variable Type': 'double', '1st Value Density (%)': 98.578895, 'Feature Type': 'Flag'}, {'Feature': 'mqtt_hdrflags', 'Observations': 20000000, 'Unique Values': 14, 'Variable Type': 'string', '1st Value Density (%)': 48.971575, 'Feature Type': 'Categorical - High Cardinality'}, {'Feature': 'mqtt_kalive', 'Observations': 20000000, 'Unique Values': 7, 'Variable Type': 'double', '1st Value Density (%)': 97.20971, 'Feature Type': 'Categorical'}, {'Feature': 'mqtt_msgtype', 'Observations': 20000000, 'Unique Values': 11, 'Variable Type': 'double', '1st Value Density (%)': 48.971575, 'Feature Type': 'Categorical - High Cardinality'}, {'Feature': 'mqtt_proto_len', 'Observations': 20000000, 'Unique Values': 2, 'Variable Type': 'double', '1st Value Density (%)': 97.20971, 'Feature Type': 'Flag'}, {'Feature': 'mqtt_protoname', 'Observations': 20000000, 'Unique Values': 2, 'Variable Type': 'string', '1st Value Density (%)': 97.20971, 'Feature Type': 'Flag'}, {'Feature': 'mqtt_qos', 'Observations': 20000000, 'Unique Values': 2, 'Variable Type': 'double', '1st Value Density (%)': 95.820265, 'Feature Type': 'Flag'}, {'Feature': 'mqtt_retain', 'Observations': 20000000, 'Unique Values': 2, 'Variable Type': 'double', '1st Value Density (%)': 99.889, 'Feature Type': 'Flag'}, {'Feature': 'mqtt_sub_qos', 'Observations': 20000000, 'Unique Values': 1, 'Variable Type': 'double', '1st Value Density (%)': 100.0, 'Feature Type': 'Superfluous'}, {'Feature': 'mqtt_suback_qos', 'Observations': 20000000, 'Unique Values': 1, 'Variable Type': 'double', '1st Value Density (%)': 100.0, 'Feature Type': 'Superfluous'}, {'Feature': 'mqtt_ver', 'Observations': 20000000, 'Unique Values': 2, 'Variable Type': 'double', '1st Value Density (%)': 97.20971, 'Feature Type': 'Flag'}, {'Feature': 'mqtt_willmsg', 'Observations': 20000000, 'Unique Values': 1, 'Variable Type': 'double', '1st Value Density (%)': 100.0, 'Feature Type': 'Superfluous'}, {'Feature': 'mqtt_willmsg_len', 'Observations': 20000000, 'Unique Values': 1, 'Variable Type': 'double', '1st Value Density (%)': 100.0, 'Feature Type': 'Superfluous'}, {'Feature': 'mqtt_willtopic', 'Observations': 20000000, 'Unique Values': 1, 'Variable Type': 'double', '1st Value Density (%)': 100.0, 'Feature Type': 'Superfluous'}, {'Feature': 'mqtt_willtopic_len', 'Observations': 20000000, 'Unique Values': 1, 'Variable Type': 'double', '1st Value Density (%)': 100.0, 'Feature Type': 'Superfluous'}, {'Feature': 'target', 'Observations': 20000000, 'Unique Values': 6, 'Variable Type': 'string', '1st Value Density (%)': 50.0, 'Feature Type': 'Categorical'}, {'Feature': 'set_type', 'Observations': 20000000, 'Unique Values': 2, 'Variable Type': 'string', '1st Value Density (%)': 70.0, 'Feature Type': 'Flag'}]\n"
     ]
    },
    {
     "name": "stderr",
     "output_type": "stream",
     "text": [
      "                                                                                \r"
     ]
    }
   ],
   "source": [
    "'''\n",
    "Task 3\n",
    "\n",
    "After conducting research on the dataset as a popular one for ML learning\n",
    "I discovered an approach to EDA a bit different than the one we covered\n",
    "in class which first conducts a unique value count across all of the features.\n",
    "So here I will start with unique value counts. This has the added benefit of\n",
    "confirming columns with only 2 values so that we can binary encode these columns\n",
    "to save memory.\n",
    "\n",
    "Importantly, here we confirm that there are no nulls in the dataset as expected,\n",
    "determine if the number of unique values matches what we expect as well, then\n",
    "groupby the occurrence of the most popular feature in a column vs the total count\n",
    "to see how much of the column actually contains useful information.\n",
    "\n",
    "The following columns all should have a lot of unique values as the individual message,\n",
    "message length, the timing of those messages, the unique ids, and the actual message\n",
    "so I will exclude them from this step\n",
    "mqtt_msg, mqtt_len, tcp_len, tcp_time_delta, mqtt_msgid\n",
    "\n",
    "Feature Engineering: Exploratory Data Analysis\n",
    "'''\n",
    "import pandas as pd\n",
    "from pyspark.sql.functions import col, avg, length\n",
    "\n",
    "\n",
    "def conduct_eda(df, features=[]):\n",
    "    if not features:\n",
    "        features = df.columns\n",
    "    \n",
    "    # Observations count\n",
    "    obs_count = df.count()\n",
    "    \n",
    "    exempt_features = ['mqtt_len','tcp_len','tcp_time_delta','mqtt_msgid','mqtt_msg']\n",
    "    # For each column, collect data structure information\n",
    "    structure_data = []\n",
    "\n",
    "    for feature in features:\n",
    "        if feature not in exempt_features:\n",
    "            \n",
    "            feature_info = {}\n",
    "\n",
    "            # Observations and Missing Values\n",
    "            feature_info['Feature'] = feature\n",
    "            feature_info['Observations'] = obs_count\n",
    "\n",
    "            # Unique Values\n",
    "            feature_info['Unique Values'] = df.select(feature).distinct().count()\n",
    "\n",
    "            # Variable Type\n",
    "            feature_info['Variable Type'] = dict(df.dtypes).get(feature)\n",
    "\n",
    "            # First Value Density\n",
    "            first_val = df.groupBy(feature).count().orderBy(col(\"count\").desc()).first()\n",
    "            first_density = (first_val[\"count\"] / obs_count) * 100 if first_val else 0\n",
    "            feature_info['1st Value Density (%)'] = first_density\n",
    "\n",
    "            # Feature Type based on unique count\n",
    "            if feature_info['Unique Values'] == 1:\n",
    "                feature_info['Feature Type'] = \"Superfluous\"\n",
    "            elif feature_info['Unique Values'] == 2:\n",
    "                feature_info['Feature Type'] = \"Flag\"\n",
    "            elif feature_info['Unique Values'] <= 10:\n",
    "                feature_info['Feature Type'] = \"Categorical\"\n",
    "            else:\n",
    "                feature_info['Feature Type'] = \"Categorical - High Cardinality\"\n",
    "\n",
    "            structure_data.append(feature_info)\n",
    "        else:\n",
    "            pass\n",
    "    \n",
    "    return structure_data\n",
    "\n",
    "eda_data = conduct_eda(mqtt_df)\n",
    "\n",
    "print(eda_data)\n"
   ]
  },
  {
   "cell_type": "code",
   "execution_count": 23,
   "metadata": {
    "tags": []
   },
   "outputs": [
    {
     "name": "stdout",
     "output_type": "stream",
     "text": [
      "                   Feature  Observations  Unique Values Variable Type  1st Value Density (%)                   Feature Type\n",
      "                 tcp_flags      20000000              8        string              49.528215                    Categorical\n",
      "         mqtt_conack_flags      20000000              2        string              97.213460                           Flag\n",
      "mqtt_conack_flags_reserved      20000000              1        double             100.000000                    Superfluous\n",
      "      mqtt_conack_flags_sp      20000000              1        double             100.000000                    Superfluous\n",
      "           mqtt_conack_val      20000000              2        double              99.005710                           Flag\n",
      "    mqtt_conflag_cleansess      20000000              2        double              97.209710                           Flag\n",
      "       mqtt_conflag_passwd      20000000              2        double              99.011430                           Flag\n",
      "          mqtt_conflag_qos      20000000              1        double             100.000000                    Superfluous\n",
      "     mqtt_conflag_reserved      20000000              1        double             100.000000                    Superfluous\n",
      "       mqtt_conflag_retain      20000000              1        double             100.000000                    Superfluous\n",
      "        mqtt_conflag_uname      20000000              2        double              99.008570                           Flag\n",
      "     mqtt_conflag_willflag      20000000              1        double             100.000000                    Superfluous\n",
      "             mqtt_conflags      20000000              4        string              97.209710                    Categorical\n",
      "              mqtt_dupflag      20000000              2        double              98.578895                           Flag\n",
      "             mqtt_hdrflags      20000000             14        string              48.971575 Categorical - High Cardinality\n",
      "               mqtt_kalive      20000000              7        double              97.209710                    Categorical\n",
      "              mqtt_msgtype      20000000             11        double              48.971575 Categorical - High Cardinality\n",
      "            mqtt_proto_len      20000000              2        double              97.209710                           Flag\n",
      "            mqtt_protoname      20000000              2        string              97.209710                           Flag\n",
      "                  mqtt_qos      20000000              2        double              95.820265                           Flag\n",
      "               mqtt_retain      20000000              2        double              99.889000                           Flag\n",
      "              mqtt_sub_qos      20000000              1        double             100.000000                    Superfluous\n",
      "           mqtt_suback_qos      20000000              1        double             100.000000                    Superfluous\n",
      "                  mqtt_ver      20000000              2        double              97.209710                           Flag\n",
      "              mqtt_willmsg      20000000              1        double             100.000000                    Superfluous\n",
      "          mqtt_willmsg_len      20000000              1        double             100.000000                    Superfluous\n",
      "            mqtt_willtopic      20000000              1        double             100.000000                    Superfluous\n",
      "        mqtt_willtopic_len      20000000              1        double             100.000000                    Superfluous\n",
      "                    target      20000000              6        string              50.000000                    Categorical\n",
      "                  set_type      20000000              2        string              70.000000                           Flag\n"
     ]
    }
   ],
   "source": [
    "# eda_data = conduct_eda(mqtt_df)\n",
    "\n",
    "# Assuming eda_list is your list of dictionaries\n",
    "eda_df = pd.DataFrame(eda_data)\n",
    "\n",
    "# Print the DataFrame with formatted display options\n",
    "print(eda_df.to_string(index=False))"
   ]
  },
  {
   "cell_type": "code",
   "execution_count": 25,
   "metadata": {
    "tags": []
   },
   "outputs": [
    {
     "name": "stderr",
     "output_type": "stream",
     "text": [
      "                                                                                \r"
     ]
    },
    {
     "name": "stdout",
     "output_type": "stream",
     "text": [
      "+--------------+\n",
      "|mqtt_protoname|\n",
      "+--------------+\n",
      "|             0|\n",
      "|          MQTT|\n",
      "+--------------+\n",
      "\n"
     ]
    },
    {
     "name": "stderr",
     "output_type": "stream",
     "text": [
      "                                                                                \r"
     ]
    },
    {
     "name": "stdout",
     "output_type": "stream",
     "text": [
      "+--------+\n",
      "|mqtt_ver|\n",
      "+--------+\n",
      "|     4.0|\n",
      "|     0.0|\n",
      "+--------+\n",
      "\n"
     ]
    },
    {
     "name": "stderr",
     "output_type": "stream",
     "text": [
      "                                                                                \r"
     ]
    },
    {
     "name": "stdout",
     "output_type": "stream",
     "text": [
      "+--------------+\n",
      "|mqtt_protoname|\n",
      "+--------------+\n",
      "|             0|\n",
      "|          MQTT|\n",
      "+--------------+\n",
      "\n"
     ]
    },
    {
     "name": "stderr",
     "output_type": "stream",
     "text": [
      "                                                                                \r"
     ]
    },
    {
     "name": "stdout",
     "output_type": "stream",
     "text": [
      "+--------------+\n",
      "|mqtt_proto_len|\n",
      "+--------------+\n",
      "|           4.0|\n",
      "|           0.0|\n",
      "+--------------+\n",
      "\n"
     ]
    },
    {
     "name": "stderr",
     "output_type": "stream",
     "text": [
      "                                                                                \r"
     ]
    },
    {
     "name": "stdout",
     "output_type": "stream",
     "text": [
      "+-----------+\n",
      "|mqtt_kalive|\n",
      "+-----------+\n",
      "|        1.0|\n",
      "|      234.0|\n",
      "|       60.0|\n",
      "|    65535.0|\n",
      "|        2.0|\n",
      "|        0.0|\n",
      "|        3.0|\n",
      "+-----------+\n",
      "\n"
     ]
    },
    {
     "name": "stderr",
     "output_type": "stream",
     "text": [
      "                                                                                \r"
     ]
    },
    {
     "name": "stdout",
     "output_type": "stream",
     "text": [
      "+-------------+\n",
      "|mqtt_conflags|\n",
      "+-------------+\n",
      "|   0x00000002|\n",
      "|            0|\n",
      "|   0x000000c2|\n",
      "|   0x00000082|\n",
      "+-------------+\n",
      "\n"
     ]
    },
    {
     "name": "stderr",
     "output_type": "stream",
     "text": [
      "                                                                                \r"
     ]
    },
    {
     "name": "stdout",
     "output_type": "stream",
     "text": [
      "+----------------------+\n",
      "|mqtt_conflag_cleansess|\n",
      "+----------------------+\n",
      "|                   1.0|\n",
      "|                   0.0|\n",
      "+----------------------+\n",
      "\n"
     ]
    },
    {
     "name": "stderr",
     "output_type": "stream",
     "text": [
      "                                                                                \r"
     ]
    },
    {
     "name": "stdout",
     "output_type": "stream",
     "text": [
      "+-----------------+\n",
      "|mqtt_conack_flags|\n",
      "+-----------------+\n",
      "|                0|\n",
      "|       0x00000000|\n",
      "+-----------------+\n",
      "\n"
     ]
    },
    {
     "name": "stderr",
     "output_type": "stream",
     "text": [
      "                                                                                \r"
     ]
    },
    {
     "name": "stdout",
     "output_type": "stream",
     "text": [
      "+-------------+\n",
      "|mqtt_hdrflags|\n",
      "+-------------+\n",
      "|   0x00000090|\n",
      "|   0x00000040|\n",
      "|   0x00000031|\n",
      "|            0|\n",
      "|   0x000000d0|\n",
      "|   0x00000010|\n",
      "|   0x00000030|\n",
      "|   0x000000e0|\n",
      "|   0x00000020|\n",
      "|   0x00000032|\n",
      "|   0x000000c0|\n",
      "|   0x00000082|\n",
      "|   0x0000003a|\n",
      "|   0x00000050|\n",
      "+-------------+\n",
      "\n"
     ]
    },
    {
     "name": "stderr",
     "output_type": "stream",
     "text": [
      "                                                                                \r"
     ]
    },
    {
     "name": "stdout",
     "output_type": "stream",
     "text": [
      "+-----------+\n",
      "|mqtt_retain|\n",
      "+-----------+\n",
      "|        1.0|\n",
      "|        0.0|\n",
      "+-----------+\n",
      "\n"
     ]
    },
    {
     "name": "stderr",
     "output_type": "stream",
     "text": [
      "                                                                                \r"
     ]
    },
    {
     "name": "stdout",
     "output_type": "stream",
     "text": [
      "+------------+\n",
      "|mqtt_dupflag|\n",
      "+------------+\n",
      "|         1.0|\n",
      "|         0.0|\n",
      "+------------+\n",
      "\n"
     ]
    },
    {
     "name": "stderr",
     "output_type": "stream",
     "text": [
      "[Stage 828:>                                                        (0 + 1) / 1]\r"
     ]
    },
    {
     "name": "stdout",
     "output_type": "stream",
     "text": [
      "+--------+\n",
      "|mqtt_qos|\n",
      "+--------+\n",
      "|     1.0|\n",
      "|     0.0|\n",
      "+--------+\n",
      "\n"
     ]
    },
    {
     "name": "stderr",
     "output_type": "stream",
     "text": [
      "                                                                                \r"
     ]
    }
   ],
   "source": [
    "'''\n",
    "Using the above information we can see that there are some columns where the most popular value\n",
    "occurs 100% of the time despite the dataset containing nearly 40% of attacks so this value\n",
    "will not be useful, those columns are all of the 'will message' (which simply tells\n",
    "the broker what to publish if the client unexpectedly disconnects), the 'reserved' which should\n",
    "always be 0 and as you can see contain no useful information, the conflag retain and willflag\n",
    "columns which only contain information on what to retain or do with the willflag so also\n",
    "worthless, the mqtt quality of service columns except for mqtt_qos, and the mqtt_conack_flags_sp\n",
    "column, and finally, I'm also dropping the mqtt_msgid column as it's simply an ID and will contain\n",
    "no useful information.\n",
    "\n",
    "    'mqtt_willmsg',\n",
    "    'mqtt_willmsg_len',\n",
    "    'mqtt_willtopic',\n",
    "    'mqtt_willtopic_len',\n",
    "    'mqtt_conack_flags_reserved',\n",
    "    'mqtt_conflag_reserved',\n",
    "    'mqtt_conflag_retained',\n",
    "    'mqtt_conflag_willflag',\n",
    "    'mqtt_conflag_qos',\n",
    "    'mqtt_sub_qos',\n",
    "    'mqtt_suback_qos',\n",
    "    'mqtt_conack_flags_sp',\n",
    "    'mqtt_msgid'\n",
    "\n",
    "After that, we examine the columns which all have the most popular value\n",
    "as 97.2097% of the data because it's likely that those columns all capture\n",
    "the same information, and we could only keep one to reduce correlation and\n",
    "computational expense. Likely keeping mqtt_kalive **already out of columns_to_drop**\n",
    "\n",
    "'mqtt_ver',\n",
    "'mqtt_protoname',\n",
    "'mqtt_proto_len',\n",
    "'mqtt_kalive',\n",
    "'mqtt_conflags',\n",
    "'mqtt_conflag_cleansess',\n",
    "'mqtt_conack_flags'\n",
    "'''\n",
    "\n",
    "maybes = [\n",
    "    'mqtt_ver',\n",
    "    'mqtt_protoname',\n",
    "    'mqtt_proto_len',\n",
    "    'mqtt_kalive',\n",
    "    'mqtt_conflags',\n",
    "    'mqtt_conflag_cleansess',\n",
    "    'mqtt_conack_flags'\n",
    "    ]\n",
    "\n",
    "for maybe in maybes:\n",
    "    maybe_df = mqtt_df.select(maybe).distinct()\n",
    "    mabye_df.show()\n",
    "\n",
    "'''\n",
    "Following that my assumption based on the data descriptions is that the data\n",
    "captured in the mqtt_hdrflags column is a collection of multiple other flag\n",
    "columns mqtt_retain, mqtt_dupflag, mqtt_qos so we'll see\n",
    "'''\n",
    "\n",
    "flags = [\n",
    "    'mqtt_hdrflags',\n",
    "    'mqtt_retain',\n",
    "    'mqtt_dupflag',\n",
    "    'mqtt_qos',\n",
    "    ]\n",
    "\n",
    "for flag in flags:\n",
    "    flag_df = mqtt_df.select(feature).distinct()\n",
    "    flag_df.show()\n",
    "\n",
    "\n"
   ]
  },
  {
   "cell_type": "code",
   "execution_count": null,
   "metadata": {},
   "outputs": [],
   "source": [
    "cols_to_drop = [\n",
    "    'mqtt_willmsg',\n",
    "    'mqtt_willmsg_len',\n",
    "    'mqtt_willtopic',\n",
    "    'mqtt_willtopic_len',\n",
    "    'mqtt_conack_flags_reserved',\n",
    "    'mqtt_conflag_reserved',\n",
    "    'mqtt_conflag_retain',\n",
    "    'mqtt_conflag_willflag',\n",
    "    'mqtt_conflag_qos',\n",
    "    'mqtt_sub_qos',\n",
    "    'mqtt_suback_qos',\n",
    "    'mqtt_conack_flags_sp',\n",
    "    'mqtt_msgid',\n",
    "    'mqtt_ver',\n",
    "    'mqtt_protoname',\n",
    "    'mqtt_proto_len',\n",
    "    'mqtt_conflags',\n",
    "    'mqtt_conflag_cleansess',\n",
    "    'mqtt_conack_flags',\n",
    "    'mqtt_dupflag',\n",
    "    'mqtt_retain',\n",
    "    'mqtt_qos',\n",
    "    'mqtt_msg'\n",
    "]\n",
    "\n",
    "cleaned_df = cleaned_df.drop(*cols_to_drop)\n",
    "cleaned_df.write.jdbc(url=JDBC_URL,\n",
    "                      table=\"cleaned\",\n",
    "                      mode='overwrite',\n",
    "                      properties=DB_PROPERTIES,\n",
    "                     )"
   ]
  },
  {
   "cell_type": "code",
   "execution_count": 4,
   "metadata": {
    "tags": []
   },
   "outputs": [],
   "source": [
    "num_partitions = 16 # Adjust based on your environment which is 8 cores on Dataproc currently\n",
    "cleaned_df = spark.read.jdbc(url=JDBC_URL,\n",
    "                          table='cleaned',\n",
    "                          properties=DB_PROPERTIES,\n",
    "                          numPartitions=num_partitions,\n",
    "                          )"
   ]
  },
  {
   "cell_type": "code",
   "execution_count": 5,
   "metadata": {
    "tags": []
   },
   "outputs": [
    {
     "name": "stderr",
     "output_type": "stream",
     "text": [
      "[Stage 1:>                                                          (0 + 1) / 1]\r"
     ]
    },
    {
     "name": "stdout",
     "output_type": "stream",
     "text": [
      "Shape: 20000000, 12\n"
     ]
    },
    {
     "name": "stderr",
     "output_type": "stream",
     "text": [
      "                                                                                \r"
     ]
    }
   ],
   "source": [
    "# Number of rows\n",
    "num_clean_rows = cleaned_df.count()\n",
    "\n",
    "# Number of columns\n",
    "num_clean_cols = len(cleaned_df.columns)\n",
    "\n",
    "print(f\"Shape: {num_clean_rows}, {num_clean_cols}\")"
   ]
  },
  {
   "cell_type": "code",
   "execution_count": 9,
   "metadata": {
    "tags": []
   },
   "outputs": [
    {
     "name": "stdout",
     "output_type": "stream",
     "text": [
      "root\n",
      " |-- tcp_flags: string (nullable = true)\n",
      " |-- tcp_time_delta: double (nullable = true)\n",
      " |-- tcp_len: integer (nullable = true)\n",
      " |-- mqtt_conack_val: double (nullable = true)\n",
      " |-- mqtt_conflag_passwd: double (nullable = true)\n",
      " |-- mqtt_conflag_uname: double (nullable = true)\n",
      " |-- mqtt_hdrflags: string (nullable = true)\n",
      " |-- mqtt_kalive: double (nullable = true)\n",
      " |-- mqtt_len: double (nullable = true)\n",
      " |-- mqtt_msgtype: double (nullable = true)\n",
      " |-- target: string (nullable = true)\n",
      " |-- set_type: string (nullable = true)\n",
      "\n"
     ]
    }
   ],
   "source": [
    "cleaned_df.printSchema()"
   ]
  },
  {
   "cell_type": "code",
   "execution_count": 14,
   "metadata": {
    "tags": []
   },
   "outputs": [
    {
     "name": "stderr",
     "output_type": "stream",
     "text": [
      "                                                                                \r"
     ]
    },
    {
     "name": "stdout",
     "output_type": "stream",
     "text": [
      "+----------+\n",
      "| tcp_flags|\n",
      "+----------+\n",
      "|0x00000018|\n",
      "|0x00000019|\n",
      "|0x00000002|\n",
      "|0x00000014|\n",
      "|0x00000010|\n",
      "|0x00000012|\n",
      "|0x00000011|\n",
      "|0x00000004|\n",
      "+----------+\n",
      "\n"
     ]
    },
    {
     "name": "stderr",
     "output_type": "stream",
     "text": [
      "                                                                                \r"
     ]
    },
    {
     "name": "stdout",
     "output_type": "stream",
     "text": [
      "+---------------+\n",
      "|mqtt_conack_val|\n",
      "+---------------+\n",
      "|            5.0|\n",
      "|            0.0|\n",
      "+---------------+\n",
      "\n"
     ]
    },
    {
     "name": "stderr",
     "output_type": "stream",
     "text": [
      "                                                                                \r"
     ]
    },
    {
     "name": "stdout",
     "output_type": "stream",
     "text": [
      "+-------------------+\n",
      "|mqtt_conflag_passwd|\n",
      "+-------------------+\n",
      "|                1.0|\n",
      "|                0.0|\n",
      "+-------------------+\n",
      "\n"
     ]
    },
    {
     "name": "stderr",
     "output_type": "stream",
     "text": [
      "                                                                                \r"
     ]
    },
    {
     "name": "stdout",
     "output_type": "stream",
     "text": [
      "+------------------+\n",
      "|mqtt_conflag_uname|\n",
      "+------------------+\n",
      "|               1.0|\n",
      "|               0.0|\n",
      "+------------------+\n",
      "\n"
     ]
    },
    {
     "name": "stderr",
     "output_type": "stream",
     "text": [
      "[Stage 19:>                                                         (0 + 1) / 1]\r"
     ]
    },
    {
     "name": "stdout",
     "output_type": "stream",
     "text": [
      "+------------+\n",
      "|mqtt_msgtype|\n",
      "+------------+\n",
      "|         1.0|\n",
      "|        13.0|\n",
      "|         5.0|\n",
      "|         2.0|\n",
      "|         4.0|\n",
      "|        14.0|\n",
      "|         8.0|\n",
      "|         0.0|\n",
      "|         3.0|\n",
      "|         9.0|\n",
      "|        12.0|\n",
      "+------------+\n",
      "\n"
     ]
    },
    {
     "name": "stderr",
     "output_type": "stream",
     "text": [
      "                                                                                \r"
     ]
    }
   ],
   "source": [
    "remaining_cols = cleaned_df.columns\n",
    "\n",
    "no_check_cols = [ 'tcp_len', 'mqtt_len', 'mqtt_hdrflags', 'tcp_time_delta', 'mqtt_kalive', 'target', 'set_type']\n",
    "non_continuous_cols =  [col[0] for col in cleaned_df.dtypes if col[0] not in no_check_cols]\n",
    "for feature in non_continuous_cols:\n",
    "    feature_df = cleaned_df.select(feature).distinct()\n",
    "    feature_df.show()"
   ]
  },
  {
   "cell_type": "code",
   "execution_count": 6,
   "metadata": {
    "tags": []
   },
   "outputs": [
    {
     "name": "stdout",
     "output_type": "stream",
     "text": [
      "root\n",
      " |-- tcp_flags: string (nullable = true)\n",
      " |-- tcp_time_delta: double (nullable = true)\n",
      " |-- tcp_len: integer (nullable = true)\n",
      " |-- mqtt_conack_val: integer (nullable = true)\n",
      " |-- mqtt_conflag_passwd: integer (nullable = true)\n",
      " |-- mqtt_conflag_uname: integer (nullable = true)\n",
      " |-- mqtt_hdrflags: string (nullable = true)\n",
      " |-- mqtt_kalive: string (nullable = true)\n",
      " |-- mqtt_len: integer (nullable = true)\n",
      " |-- mqtt_msgtype: string (nullable = true)\n",
      " |-- target: string (nullable = true)\n",
      " |-- set_type: string (nullable = true)\n",
      "\n",
      "['tcp_time_delta', 'tcp_len', 'mqtt_len']\n"
     ]
    }
   ],
   "source": [
    "'''\n",
    "Finalize the binary categorical, and numerical columns for analysis and\n",
    "future encoding.\n",
    "\n",
    "Having produced the values above, I am casting the following columns to\n",
    "integer to save memory space going from double to int because the first 3\n",
    "are binary while the mqtt_len column should be an integer anyway:\n",
    "'mqtt_conflag_uname', 'mqtt_conflag_passwd', 'mqtt_conack_val', 'mqtt_len'\n",
    "\n",
    "I am casting the following columns from double to string as they are\n",
    "meant to be categorical rather than numerical:\n",
    "'mqtt_kalive', 'mqtt_msg_type'\n",
    "'''\n",
    "from pyspark.sql.functions import col, avg, length\n",
    "\n",
    "\n",
    "# Define columns to cast to integer and string\n",
    "int_cols = ['mqtt_conack_val', 'mqtt_conflag_uname', 'mqtt_conflag_passwd', 'mqtt_len']\n",
    "str_cols = ['mqtt_kalive', 'mqtt_msgtype']\n",
    "\n",
    "# Cast integer columns\n",
    "for column in int_cols:\n",
    "    cleaned_df = cleaned_df.withColumn(column, col(column).cast('integer'))\n",
    "\n",
    "# Cast string columns\n",
    "for column in str_cols:\n",
    "    cleaned_df = cleaned_df.withColumn(column, col(column).cast('string'))\n",
    "\n",
    "# Verify the schema to ensure changes are applied\n",
    "cleaned_df.printSchema()\n",
    "# print(cleaned_df.dtypes)\n",
    "binary_cols = ['mqtt_conflag_uname', 'mqtt_conflag_passwd', 'mqtt_conack_val',]\n",
    "nominal_cols = [ 'mqtt_msgtype', 'tcp_flags', 'mqtt_hdrflags', 'mqtt_kalive',]\n",
    "labels = 'target'\n",
    "train_test = 'set_type'\n",
    "continuous_cols = ['tcp_time_delta', 'tcp_len', 'mqtt_len']\n",
    "\n",
    "print(continous_cols)"
   ]
  },
  {
   "cell_type": "code",
   "execution_count": 19,
   "metadata": {
    "tags": []
   },
   "outputs": [
    {
     "name": "stderr",
     "output_type": "stream",
     "text": [
      "[Stage 25:>                                                         (0 + 1) / 1]\r"
     ]
    },
    {
     "name": "stdout",
     "output_type": "stream",
     "text": [
      "Correlation matrix:\n",
      " [[ 1.          0.0420559  -0.01527093]\n",
      " [ 0.0420559   1.          0.03922767]\n",
      " [-0.01527093  0.03922767  1.        ]]\n"
     ]
    },
    {
     "name": "stderr",
     "output_type": "stream",
     "text": [
      "                                                                                \r"
     ]
    }
   ],
   "source": [
    "'''\n",
    "Task 3\n",
    "\n",
    "It's important to note here that we shouldn't actually have to\n",
    "calculate and consider outliers as here, we are not trying to\n",
    "predict a specific numerical outcome based on weights like we did\n",
    "in the plays.csv in HW4 where a larger numeric column could have\n",
    "an outsized weight effect on a given prediction if an outlier were\n",
    "to be input. Here, we actually want outliers because the goal\n",
    "is to train a classifier to identify anomalies to normal behavior\n",
    "and it is far more likely that the outliers relate to attacks in\n",
    "this dataset than negatively affect the prediction accuracy.\n",
    "\n",
    "So instead, we'll keep all data and move to correlation analysis,\n",
    "and here I use a heatmap rather than a pairplot, as the correlation\n",
    "calculation is already computationally expensive, and a pairplot\n",
    "would make it even more so. Additionally, even with only a 5%\n",
    "sample of the data and an 8 core 32GB single node, Spark kept\n",
    "crashing from the attempted collection of partitions to pandas, so\n",
    "I'm using Spark's Correlation method with Vector Assembler which\n",
    "should also serve to also go ahead and vectorize the numerical data.\n",
    "\n",
    "\n",
    "Feature Engineering: Correlation Analysis\n",
    "'''\n",
    "\n",
    "# Calculate pairwise correlation matrix\n",
    "from pyspark.ml.stat import Correlation\n",
    "from pyspark.ml.feature import VectorAssembler\n",
    "import numpy as np\n",
    "\n",
    "# Assemble numerical features into a vector\n",
    "assembler = VectorAssembler(inputCols=numerical_cols, outputCol=\"features\")\n",
    "df_vector = assembler.transform(cleaned_df).select(\"features\")\n",
    "\n",
    "# Compute the correlation matrix\n",
    "correlation_matrix = Correlation.corr(df_vector, \"features\").head()[0].toArray()\n",
    "print(\"Correlation matrix:\\n\", correlation_matrix)\n"
   ]
  },
  {
   "cell_type": "code",
   "execution_count": 7,
   "metadata": {
    "tags": []
   },
   "outputs": [
    {
     "name": "stderr",
     "output_type": "stream",
     "text": [
      "                                                                                \r"
     ]
    }
   ],
   "source": [
    "'''\n",
    "Feature Engineering: Handle Categorical Variables with Pipeline\n",
    "\n",
    "StringIndex and then OneHotEncode the columns of string datatype\n",
    "'''\n",
    "from pyspark.ml.feature import StringIndexer, OneHotEncoder\n",
    "from pyspark.ml import Pipeline\n",
    "\n",
    "# categorical_cols = [ 'mqtt_msgtype', 'tcp_flags', 'mqtt_hdrflags', 'mqtt_kalive', 'mqtt_msg',]\n",
    "\n",
    "# String \n",
    "stage_1 = StringIndexer(inputCol='mqtt_msgtype', outputCol='mqtt_msg_type_index')\n",
    "stage_2 = StringIndexer(inputCol='tcp_flags', outputCol='tcp_flags_index')\n",
    "stage_3 = StringIndexer(inputCol='mqtt_hdrflags', outputCol='mqtt_hdflags_index')\n",
    "stage_4 = StringIndexer(inputCol='mqtt_kalive', outputCol='mqtt_kalive_index')\n",
    "\n",
    "\n",
    "encoder_stage = OneHotEncoder(inputCols=['mqtt_msg_type_index', 'tcp_flags_index', 'mqtt_hdflags_index', \n",
    "                                     'mqtt_kalive_index',], \n",
    "                          outputCols=['mqtt_msg_type_encoded', 'tcp_flags_encoded', 'mqtt_hdflags_encoded', \n",
    "                                     'mqtt_kalive_encoded',])\n",
    "\n",
    "\n",
    "\n",
    "pipeline = Pipeline(stages=[stage_1, stage_2, stage_3, stage_4, encoder_stage])\n",
    "\n",
    "pipeline_model = pipeline.fit(cleaned_df)\n",
    "df_encoded = pipeline_model.transform(cleaned_df)\n"
   ]
  },
  {
   "cell_type": "code",
   "execution_count": 13,
   "metadata": {
    "tags": []
   },
   "outputs": [
    {
     "name": "stdout",
     "output_type": "stream",
     "text": [
      "['tcp_time_delta', 'tcp_len', 'mqtt_conack_val', 'mqtt_conflag_passwd', 'mqtt_conflag_uname', 'mqtt_len', 'target', 'set_type', 'mqtt_msg_type_encoded', 'tcp_flags_encoded', 'mqtt_hdflags_encoded', 'mqtt_kalive_encoded', 'numeric_vector', 'vectorized_features']\n"
     ]
    }
   ],
   "source": [
    "'''\n",
    "Feature Engineering: Combining features into a Single vector\n",
    "\n",
    "'''\n",
    "from pyspark.ml.feature import VectorAssembler, StandardScaler\n",
    "\n",
    "# List of original string columns and _index columns to drop\n",
    "columns_to_drop = ['mqtt_msgtype', 'tcp_flags', 'mqtt_hdrflags', 'mqtt_kalive', 'mqtt_msg',\n",
    "                  'mqtt_msg_type_index', 'tcp_flags_index', 'mqtt_hdflags_index', 'mqtt_kalive_index']\n",
    "\n",
    "# Define feature list by dropping unnecessary columns and target column PlayResult\n",
    "features_only_df = df_encoded.drop(*columns_to_drop)\n",
    "feature_list = features_only_df.columns\n",
    "features_only_df.dtypes\n",
    "\n",
    "# Ensure all the columns are included in the list for VectorAssembler (both integer and vector types)\n",
    "binary_and_numeric_columns = ['mqtt_conflag_uname', 'mqtt_conflag_passwd', 'mqtt_conack_val', 'tcp_len', 'mqtt_len', 'tcp_time_delta']\n",
    "\n",
    "# Create a VectorAssembler for numeric columns\n",
    "numeric_assembler = VectorAssembler(\n",
    "    inputCols=binary_and_numeric_columns,\n",
    "    outputCol=\"numeric_vector\"\n",
    ")\n",
    "\n",
    "# Apply the assembler\n",
    "df_with_numeric_vector = numeric_assembler.transform(features_only_df)\n",
    "\n",
    "vector_columns = ['mqtt_msg_type_encoded', 'tcp_flags_encoded', 'mqtt_hdflags_encoded', 'mqtt_kalive_encoded']\n",
    "\n",
    "# Now, create a final VectorAssembler to combine the numeric vector and the already encoded vectors\n",
    "stage_final_assembler = VectorAssembler(\n",
    "    inputCols=[\"numeric_vector\"] + vector_columns,  # Combine numeric vector and the encoded vectors\n",
    "    outputCol=\"vectorized_features\"\n",
    ")\n",
    "\n",
    "# Stage where we scale the columns\n",
    "stage_scaler = StandardScaler(inputCol= 'vectorized_features', outputCol= 'features')\n"
   ]
  },
  {
   "cell_type": "code",
   "execution_count": 10,
   "metadata": {
    "tags": []
   },
   "outputs": [
    {
     "name": "stderr",
     "output_type": "stream",
     "text": [
      "                                                                                \r"
     ]
    },
    {
     "name": "stdout",
     "output_type": "stream",
     "text": [
      "Parameters: regParam=0.01, maxIter=1, Accuracy: 0.6674\n"
     ]
    },
    {
     "name": "stderr",
     "output_type": "stream",
     "text": [
      "                                                                                \r"
     ]
    },
    {
     "name": "stdout",
     "output_type": "stream",
     "text": [
      "Parameters: regParam=0.1, maxIter=5, Accuracy: 0.7311\n"
     ]
    },
    {
     "name": "stderr",
     "output_type": "stream",
     "text": [
      "                                                                                \r"
     ]
    },
    {
     "name": "stdout",
     "output_type": "stream",
     "text": [
      "Parameters: regParam=1.0, maxIter=10, Accuracy: 0.5766\n",
      "Best Model Parameters: regParam=0.1, maxIter=5\n",
      "Best Test Accuracy: 0.7311\n"
     ]
    },
    {
     "name": "stderr",
     "output_type": "stream",
     "text": [
      "                                                                                \r"
     ]
    },
    {
     "name": "stdout",
     "output_type": "stream",
     "text": [
      "Confusion Matrix:\n",
      " Predicted      0.0     1.0     2.0     3.0     4.0     5.0\n",
      "Actual                                                    \n",
      "0.0        3000000       0       0       0       0       0\n",
      "1.0         225759  254753       0       0     172  119316\n",
      "2.0         169298     127  430275       0      75     225\n",
      "3.0         357600       0       0  237600    1200    3600\n",
      "4.0         214260   49500    4440       0  187680  144120\n",
      "5.0         323175     525       0       0      75  276225\n"
     ]
    }
   ],
   "source": [
    "'''\n",
    "Task 3\n",
    "\n",
    "Complete Pipeline from feature engineering above into \n",
    "\n",
    "SparkML Model 1: MultiClass Logistic Regression\n",
    "with Hyperparameter tuning to find the best model using the ParamGridBuilder\n",
    "for the regularization parameter and the number of iterations to learn.\n",
    "\n",
    "Format taken almost exactly from that executed in HW 5\n",
    "'''\n",
    "from pyspark.ml import Pipeline, Transformer\n",
    "from pyspark.ml.feature import StandardScaler, StringIndexer, OneHotEncoder, VectorAssembler\n",
    "from pyspark.ml.classification import LogisticRegression\n",
    "from pyspark.ml.evaluation import MulticlassClassificationEvaluator\n",
    "from pyspark.sql.functions import col\n",
    "from pyspark.sql.types import DoubleType\n",
    "import pandas as pd\n",
    "\n",
    "binary_cols = ['mqtt_conflag_uname', 'mqtt_conflag_passwd', 'mqtt_conack_val']\n",
    "nominal_cols = ['mqtt_msgtype', 'tcp_flags', 'mqtt_hdrflags', 'mqtt_kalive']\n",
    "continuous_cols = ['tcp_time_delta', 'tcp_len', 'mqtt_len']\n",
    "label_col = 'label'  # Updated to use 'label' after indexing\n",
    "train_test_col = 'set_type'\n",
    "\n",
    "class FeatureTypeCaster(Transformer):  # this transformer will cast the columns as appropriate types\n",
    "    def __init__(self):\n",
    "        super().__init__()\n",
    "\n",
    "    def _transform(self, dataset):\n",
    "        output_df = dataset\n",
    "        for col_name in binary_cols + continuous_cols:\n",
    "            output_df = output_df.withColumn(col_name, col(col_name).cast(DoubleType()))\n",
    "        return output_df\n",
    "\n",
    "class ColumnDropper(Transformer):  # this transformer drops unnecessary columns\n",
    "    def __init__(self, columns_to_drop=None):\n",
    "        super().__init__()\n",
    "        self.columns_to_drop = columns_to_drop\n",
    "\n",
    "    def _transform(self, dataset):\n",
    "        output_df = dataset\n",
    "        for col_name in self.columns_to_drop:\n",
    "            output_df = output_df.drop(col_name)\n",
    "        return output_df\n",
    "\n",
    "# Stage where columns are casted as appropriate types\n",
    "stage_typecaster = FeatureTypeCaster()\n",
    "\n",
    "# Stage to index the target column\n",
    "stage_label_indexer = StringIndexer(inputCol='target', outputCol='label')\n",
    "\n",
    "# Stage where nominal columns are transformed to index columns using StringIndexer\n",
    "nominal_id_cols = [x + \"_index\" for x in nominal_cols]\n",
    "nominal_onehot_cols = [x + \"_encoded\" for x in nominal_cols]\n",
    "stage_nominal_indexer = StringIndexer(inputCols=nominal_cols, outputCols=nominal_id_cols)\n",
    "\n",
    "# Stage where the index columns are further transformed using OneHotEncoder\n",
    "stage_nominal_onehot_encoder = OneHotEncoder(inputCols=nominal_id_cols, outputCols=nominal_onehot_cols)\n",
    "\n",
    "# Stage where all relevant features are assembled into a vector\n",
    "feature_cols = continuous_cols + binary_cols + nominal_onehot_cols\n",
    "stage_vector_assembler = VectorAssembler(inputCols=feature_cols, outputCol=\"vectorized_features\")\n",
    "\n",
    "# Stage where we scale the columns\n",
    "stage_scaler = StandardScaler(inputCol='vectorized_features', outputCol='features')\n",
    "\n",
    "# Removing all unnecessary columns, including 'target'\n",
    "stage_column_dropper = ColumnDropper(columns_to_drop=nominal_cols + nominal_id_cols +\n",
    "                                     nominal_onehot_cols + binary_cols + continuous_cols + ['vectorized_features', 'target'])\n",
    "\n",
    "# Split the data based on the 'set_type' column\n",
    "train_df = cleaned_df.filter(cleaned_df[train_test_col] == 'train')\n",
    "test_df = cleaned_df.filter(cleaned_df[train_test_col] == 'test')\n",
    "\n",
    "# Define parameter grid manually\n",
    "paramGrid = [\n",
    "    {\"regParam\": 0.01, \"maxIter\": 1},\n",
    "    {\"regParam\": 0.1, \"maxIter\": 5},\n",
    "    {\"regParam\": 1.0, \"maxIter\": 10}\n",
    "]\n",
    "\n",
    "# Set up evaluator\n",
    "evaluator = MulticlassClassificationEvaluator(labelCol=label_col, predictionCol=\"prediction\", metricName=\"accuracy\")\n",
    "\n",
    "# Track best model and accuracy\n",
    "best_model = None\n",
    "best_accuracy = 0.0\n",
    "best_params = {}\n",
    "\n",
    "# Iterate over the parameter grid\n",
    "for params in paramGrid:\n",
    "    # Define logistic regression model with current parameters\n",
    "    mlr = LogisticRegression(featuresCol=\"features\", labelCol=label_col, family=\"multinomial\",\n",
    "                             regParam=params[\"regParam\"], maxIter=params[\"maxIter\"])\n",
    "\n",
    "    # Assemble the Pipeline\n",
    "    pipeline = Pipeline(stages=[\n",
    "        stage_typecaster,\n",
    "        stage_label_indexer,\n",
    "        stage_nominal_indexer,\n",
    "        stage_nominal_onehot_encoder,\n",
    "        stage_vector_assembler,\n",
    "        stage_scaler,\n",
    "        stage_column_dropper,\n",
    "        mlr\n",
    "    ])\n",
    "\n",
    "    # Train the model on the training data\n",
    "    pipeline_model = pipeline.fit(train_df)\n",
    "\n",
    "    # Evaluate on the test set\n",
    "    predictions = pipeline_model.transform(test_df)\n",
    "    accuracy = evaluator.evaluate(predictions)\n",
    "\n",
    "    print(f\"Parameters: regParam={params['regParam']}, maxIter={params['maxIter']}, Accuracy: {accuracy:.4f}\")\n",
    "\n",
    "    # Update best model if current model is better\n",
    "    if accuracy > best_accuracy:\n",
    "        best_accuracy = accuracy\n",
    "        best_model = pipeline_model\n",
    "        best_params = params\n",
    "\n",
    "print(f\"Best Model Parameters: regParam={best_params['regParam']}, maxIter={best_params['maxIter']}\")\n",
    "print(f\"Best Test Accuracy: {best_accuracy:.4f}\")\n",
    "\n",
    "# Optional: Confusion Matrix for the best model\n",
    "predictions_pd = best_model.transform(test_df).select(label_col, \"prediction\").toPandas()\n",
    "confusion_matrix = pd.crosstab(predictions_pd[label_col], predictions_pd['prediction'], rownames=['Actual'], colnames=['Predicted'])\n",
    "print(\"Confusion Matrix:\\n\", confusion_matrix)\n"
   ]
  },
  {
   "cell_type": "code",
   "execution_count": null,
   "metadata": {},
   "outputs": [],
   "source": [
    "'''\n",
    "Label Index to Original Target Mapping:\n",
    "0.0: legitimate\n",
    "1.0: bruteforce  42% correct, 38% falsely legitimate (false negative), 20% wrongly labeled\n",
    "2.0: dos         72% correct, 28% falsely legitimate (false negative), <1% wrongly labeled\n",
    "3.0: flood       40% correct, 60% falsely legitimate (false negative), <1% wrongly labeled\n",
    "4.0: malformed   31% correct, 36% falsely legitimate (false negative), 33% wrongly labeled\n",
    "5.0: slowite     46% correct, 54% falsely legitimate (false negative), <1% wrongly labeled\n",
    "'''"
   ]
  },
  {
   "cell_type": "code",
   "execution_count": 11,
   "metadata": {
    "tags": []
   },
   "outputs": [
    {
     "name": "stderr",
     "output_type": "stream",
     "text": [
      "[Stage 109:>                                                        (0 + 1) / 1]\r"
     ]
    },
    {
     "name": "stdout",
     "output_type": "stream",
     "text": [
      "Label Index to Original Target Mapping:\n",
      "0.0: legitimate\n",
      "1.0: bruteforce\n",
      "2.0: dos\n",
      "3.0: flood\n",
      "4.0: malformed\n",
      "5.0: slowite\n"
     ]
    },
    {
     "name": "stderr",
     "output_type": "stream",
     "text": [
      "                                                                                \r"
     ]
    }
   ],
   "source": [
    "# After fitting the pipeline\n",
    "pipeline_model = pipeline.fit(train_df)\n",
    "\n",
    "# Access the StringIndexerModel for the 'target' column\n",
    "label_indexer_model = pipeline_model.stages[1]  # Adjust index if necessary\n",
    "\n",
    "# Retrieve the labels\n",
    "labels = label_indexer_model.labels\n",
    "\n",
    "# Create a mapping from index to label\n",
    "index_to_label = {float(index): label for index, label in enumerate(labels)}\n",
    "\n",
    "# Display the mapping\n",
    "print(\"Label Index to Original Target Mapping:\")\n",
    "for index, label in index_to_label.items():\n",
    "    print(f\"{index}: {label}\")\n",
    "\n",
    "# Now, you can interpret your confusion matrix using this mapping\n"
   ]
  },
  {
   "cell_type": "code",
   "execution_count": 18,
   "metadata": {
    "tags": []
   },
   "outputs": [
    {
     "name": "stderr",
     "output_type": "stream",
     "text": [
      "                                                                                \r"
     ]
    },
    {
     "name": "stdout",
     "output_type": "stream",
     "text": [
      "Parameters: smoothing=1.0, Accuracy: 0.7291\n"
     ]
    },
    {
     "name": "stderr",
     "output_type": "stream",
     "text": [
      "                                                                                \r"
     ]
    },
    {
     "name": "stdout",
     "output_type": "stream",
     "text": [
      "Parameters: smoothing=0.5, Accuracy: 0.7291\n"
     ]
    },
    {
     "name": "stderr",
     "output_type": "stream",
     "text": [
      "                                                                                \r"
     ]
    },
    {
     "name": "stdout",
     "output_type": "stream",
     "text": [
      "Parameters: smoothing=0.1, Accuracy: 0.7291\n",
      "Best Model Parameters: smoothing=1.0\n",
      "Best Test Accuracy: 0.7291\n"
     ]
    },
    {
     "name": "stderr",
     "output_type": "stream",
     "text": [
      "                                                                                \r"
     ]
    },
    {
     "name": "stdout",
     "output_type": "stream",
     "text": [
      "Confusion Matrix:\n",
      " Predicted      0.0     1.0     2.0     3.0     4.0     5.0\n",
      "Actual                                                    \n",
      "0.0        3000000       0       0       0       0       0\n",
      "1.0         225759  254925       0       0       0  119316\n",
      "2.0         169298     202  430275       0       0     225\n",
      "3.0         336000    1200       0  259200       0    3600\n",
      "4.0         214260   83400    2160       0  153840  146340\n",
      "5.0         323175     525       0       0      75  276225\n"
     ]
    }
   ],
   "source": [
    "'''\n",
    "Task 3\n",
    "\n",
    "SparkML Model 2: MultiClass Naive Bayes\n",
    "with Hyperparameter tuning to find the best model using the smoothing\n",
    "\n",
    "Format taken almost exactly from above and data engineering nearly already complete\n",
    "'''\n",
    "from pyspark.ml.classification import NaiveBayes\n",
    "from pyspark.ml.feature import MinMaxScaler\n",
    "\n",
    "minmax_scaler = MinMaxScaler(inputCol=\"vectorized_features\", outputCol=\"features\")\n",
    "from pyspark.sql.functions import abs\n",
    "\n",
    "class FeatureTypeCaster(Transformer):  # this transformer will cast the columns as appropriate types\n",
    "    def __init__(self):\n",
    "        super().__init__()\n",
    "    def _transform(self, dataset):\n",
    "        output_df = dataset\n",
    "        for col_name in binary_cols + continuous_cols:\n",
    "            output_df = output_df.withColumn(col_name, abs(col(col_name).cast(DoubleType())))\n",
    "        return output_df\n",
    "\n",
    "# Define parameter grid manually for Naive Bayes\n",
    "paramGrid = [\n",
    "    {\"smoothing\": 1.0},\n",
    "    {\"smoothing\": 0.5},\n",
    "    {\"smoothing\": 0.1}\n",
    "]\n",
    "\n",
    "stage_vector_assembler = VectorAssembler(inputCols=feature_cols, outputCol=\"vectorized_features\")\n",
    "NB_stage_minmax_scaler = MinMaxScaler(inputCol=\"vectorized_features\", outputCol=\"features\")\n",
    "# Set up evaluator\n",
    "evaluator = MulticlassClassificationEvaluator(labelCol=label_col, predictionCol=\"prediction\", metricName=\"accuracy\")\n",
    "\n",
    "best_NB_model = None\n",
    "best_NB_accuracy = 0.0\n",
    "best_NB_params = {}\n",
    "\n",
    "# Cache the DataFrames after loading\n",
    "train_df = cleaned_df.filter(cleaned_df[train_test_col] == 'train').cache()\n",
    "test_df = cleaned_df.filter(cleaned_df[train_test_col] == 'test').cache()\n",
    "\n",
    "# Iterate over the parameter grid\n",
    "for params in paramGrid:\n",
    "    # Define Naive Bayes model with current parameters\n",
    "    nb = NaiveBayes(featuresCol=\"features\", labelCol=label_col, modelType=\"multinomial\", smoothing=params[\"smoothing\"])\n",
    "\n",
    "    # Assemble the Pipeline\n",
    "    pipeline = Pipeline(stages=[\n",
    "        stage_typecaster,\n",
    "        stage_label_indexer,           \n",
    "        stage_nominal_indexer,\n",
    "        stage_nominal_onehot_encoder,\n",
    "        stage_vector_assembler,\n",
    "        NB_stage_minmax_scaler,\n",
    "        stage_column_dropper,\n",
    "        nb\n",
    "    ])\n",
    "\n",
    "    # Train the model on the training data\n",
    "    pipeline_model = pipeline.fit(train_df)\n",
    "\n",
    "    # Evaluate on the test set\n",
    "    predictions = pipeline_model.transform(test_df)\n",
    "    accuracy = evaluator.evaluate(predictions)\n",
    "\n",
    "    print(f\"Parameters: smoothing={params['smoothing']}, Accuracy: {accuracy:.4f}\")\n",
    "\n",
    "    # Update best model if current model is better\n",
    "    if accuracy > best_NB_accuracy:\n",
    "        best_NB_accuracy = accuracy\n",
    "        best_NB_model = pipeline_model\n",
    "        best_NB_params['smoothing'] = params['smoothing']\n",
    "\n",
    "train_df.unpersist()\n",
    "test_df.unpersist()\n",
    "print(f\"Best Model Parameters: smoothing={best_NB_params['smoothing']}\")\n",
    "print(f\"Best Test Accuracy: {best_NB_accuracy:.4f}\")\n",
    "\n",
    "# Optional: Confusion Matrix for the best model\n",
    "predictions_pd = best_NB_model.transform(test_df).select(label_col, \"prediction\").toPandas()\n",
    "confusion_matrix = pd.crosstab(predictions_pd[label_col], predictions_pd['prediction'], rownames=['Actual'], colnames=['Predicted'])\n",
    "print(\"Confusion Matrix:\\n\", confusion_matrix)"
   ]
  },
  {
   "cell_type": "code",
   "execution_count": null,
   "metadata": {},
   "outputs": [],
   "source": [
    "'''\n",
    "Label Index to Original Target Mapping:\n",
    "0.0: legitimate\n",
    "1.0: bruteforce  42% correct, 38% falsely legitimate (false negative), 20% wrongly labeled\n",
    "2.0: dos         72% correct, 28% falsely legitimate (false negative), <1% wrongly labeled\n",
    "3.0: flood       43% correct, 56% falsely legitimate (false negative), <1% wrongly labeled\n",
    "4.0: malformed   25% correct, 36% falsely legitimate (false negative), 39% wrongly labeled\n",
    "5.0: slowite     46% correct, 54% falsely legitimate (false negative), <1% wrongly labeled\n",
    "'''"
   ]
  },
  {
   "cell_type": "code",
   "execution_count": 20,
   "metadata": {
    "tags": []
   },
   "outputs": [
    {
     "name": "stdout",
     "output_type": "stream",
     "text": [
      "Collecting torch\n",
      "  Downloading torch-2.5.1-cp311-cp311-manylinux1_x86_64.whl.metadata (28 kB)\n",
      "Collecting torchvision\n",
      "  Downloading torchvision-0.20.1-cp311-cp311-manylinux1_x86_64.whl.metadata (6.1 kB)\n",
      "Requirement already satisfied: scikit-learn in /opt/conda/miniconda3/lib/python3.11/site-packages (1.3.2)\n",
      "Requirement already satisfied: filelock in /opt/conda/miniconda3/lib/python3.11/site-packages (from torch) (3.16.1)\n",
      "Requirement already satisfied: typing-extensions>=4.8.0 in /opt/conda/miniconda3/lib/python3.11/site-packages (from torch) (4.12.2)\n",
      "Requirement already satisfied: networkx in /opt/conda/miniconda3/lib/python3.11/site-packages (from torch) (3.4.2)\n",
      "Requirement already satisfied: jinja2 in /opt/conda/miniconda3/lib/python3.11/site-packages (from torch) (3.1.4)\n",
      "Requirement already satisfied: fsspec in /opt/conda/miniconda3/lib/python3.11/site-packages (from torch) (2023.12.2)\n",
      "Collecting nvidia-cuda-nvrtc-cu12==12.4.127 (from torch)\n",
      "  Downloading nvidia_cuda_nvrtc_cu12-12.4.127-py3-none-manylinux2014_x86_64.whl.metadata (1.5 kB)\n",
      "Collecting nvidia-cuda-runtime-cu12==12.4.127 (from torch)\n",
      "  Downloading nvidia_cuda_runtime_cu12-12.4.127-py3-none-manylinux2014_x86_64.whl.metadata (1.5 kB)\n",
      "Collecting nvidia-cuda-cupti-cu12==12.4.127 (from torch)\n",
      "  Downloading nvidia_cuda_cupti_cu12-12.4.127-py3-none-manylinux2014_x86_64.whl.metadata (1.6 kB)\n",
      "Collecting nvidia-cudnn-cu12==9.1.0.70 (from torch)\n",
      "  Downloading nvidia_cudnn_cu12-9.1.0.70-py3-none-manylinux2014_x86_64.whl.metadata (1.6 kB)\n",
      "Collecting nvidia-cublas-cu12==12.4.5.8 (from torch)\n",
      "  Downloading nvidia_cublas_cu12-12.4.5.8-py3-none-manylinux2014_x86_64.whl.metadata (1.5 kB)\n",
      "Collecting nvidia-cufft-cu12==11.2.1.3 (from torch)\n",
      "  Downloading nvidia_cufft_cu12-11.2.1.3-py3-none-manylinux2014_x86_64.whl.metadata (1.5 kB)\n",
      "Collecting nvidia-curand-cu12==10.3.5.147 (from torch)\n",
      "  Downloading nvidia_curand_cu12-10.3.5.147-py3-none-manylinux2014_x86_64.whl.metadata (1.5 kB)\n",
      "Collecting nvidia-cusolver-cu12==11.6.1.9 (from torch)\n",
      "  Downloading nvidia_cusolver_cu12-11.6.1.9-py3-none-manylinux2014_x86_64.whl.metadata (1.6 kB)\n",
      "Collecting nvidia-cusparse-cu12==12.3.1.170 (from torch)\n",
      "  Downloading nvidia_cusparse_cu12-12.3.1.170-py3-none-manylinux2014_x86_64.whl.metadata (1.6 kB)\n",
      "Collecting nvidia-nccl-cu12==2.21.5 (from torch)\n",
      "  Downloading nvidia_nccl_cu12-2.21.5-py3-none-manylinux2014_x86_64.whl.metadata (1.8 kB)\n",
      "Collecting nvidia-nvtx-cu12==12.4.127 (from torch)\n",
      "  Downloading nvidia_nvtx_cu12-12.4.127-py3-none-manylinux2014_x86_64.whl.metadata (1.7 kB)\n",
      "Collecting nvidia-nvjitlink-cu12==12.4.127 (from torch)\n",
      "  Downloading nvidia_nvjitlink_cu12-12.4.127-py3-none-manylinux2014_x86_64.whl.metadata (1.5 kB)\n",
      "Collecting triton==3.1.0 (from torch)\n",
      "  Downloading triton-3.1.0-cp311-cp311-manylinux_2_17_x86_64.manylinux2014_x86_64.whl.metadata (1.3 kB)\n",
      "Collecting sympy==1.13.1 (from torch)\n",
      "  Downloading sympy-1.13.1-py3-none-any.whl.metadata (12 kB)\n",
      "Requirement already satisfied: mpmath<1.4,>=1.1.0 in /opt/conda/miniconda3/lib/python3.11/site-packages (from sympy==1.13.1->torch) (1.3.0)\n",
      "Requirement already satisfied: numpy in /opt/conda/miniconda3/lib/python3.11/site-packages (from torchvision) (1.26.4)\n",
      "Requirement already satisfied: pillow!=8.3.*,>=5.3.0 in /opt/conda/miniconda3/lib/python3.11/site-packages (from torchvision) (10.3.0)\n",
      "Requirement already satisfied: scipy>=1.5.0 in /opt/conda/miniconda3/lib/python3.11/site-packages (from scikit-learn) (1.11.4)\n",
      "Requirement already satisfied: joblib>=1.1.1 in /opt/conda/miniconda3/lib/python3.11/site-packages (from scikit-learn) (1.4.2)\n",
      "Requirement already satisfied: threadpoolctl>=2.0.0 in /opt/conda/miniconda3/lib/python3.11/site-packages (from scikit-learn) (3.5.0)\n",
      "Requirement already satisfied: MarkupSafe>=2.0 in /opt/conda/miniconda3/lib/python3.11/site-packages (from jinja2->torch) (3.0.2)\n",
      "Downloading torch-2.5.1-cp311-cp311-manylinux1_x86_64.whl (906.5 MB)\n",
      "\u001b[2K   \u001b[90m━━━━━━━━━━━━━━━━━━━━━━━━━━━━━━━━━━━━━━━━\u001b[0m \u001b[32m906.5/906.5 MB\u001b[0m \u001b[31m1.2 MB/s\u001b[0m eta \u001b[36m0:00:00\u001b[0m:00:01\u001b[0m00:01\u001b[0m\n",
      "\u001b[?25hDownloading nvidia_cublas_cu12-12.4.5.8-py3-none-manylinux2014_x86_64.whl (363.4 MB)\n",
      "\u001b[2K   \u001b[90m━━━━━━━━━━━━━━━━━━━━━━━━━━━━━━━━━━━━━━━━\u001b[0m \u001b[32m363.4/363.4 MB\u001b[0m \u001b[31m3.1 MB/s\u001b[0m eta \u001b[36m0:00:00\u001b[0m:00:01\u001b[0m00:01\u001b[0m\n",
      "\u001b[?25hDownloading nvidia_cuda_cupti_cu12-12.4.127-py3-none-manylinux2014_x86_64.whl (13.8 MB)\n",
      "\u001b[2K   \u001b[90m━━━━━━━━━━━━━━━━━━━━━━━━━━━━━━━━━━━━━━━━\u001b[0m \u001b[32m13.8/13.8 MB\u001b[0m \u001b[31m91.9 MB/s\u001b[0m eta \u001b[36m0:00:00\u001b[0m:00:01\u001b[0m00:01\u001b[0m\n",
      "\u001b[?25hDownloading nvidia_cuda_nvrtc_cu12-12.4.127-py3-none-manylinux2014_x86_64.whl (24.6 MB)\n",
      "\u001b[2K   \u001b[90m━━━━━━━━━━━━━━━━━━━━━━━━━━━━━━━━━━━━━━━━\u001b[0m \u001b[32m24.6/24.6 MB\u001b[0m \u001b[31m100.5 MB/s\u001b[0m eta \u001b[36m0:00:00\u001b[0m00:01\u001b[0m00:01\u001b[0m\n",
      "\u001b[?25hDownloading nvidia_cuda_runtime_cu12-12.4.127-py3-none-manylinux2014_x86_64.whl (883 kB)\n",
      "\u001b[2K   \u001b[90m━━━━━━━━━━━━━━━━━━━━━━━━━━━━━━━━━━━━━━━━\u001b[0m \u001b[32m883.7/883.7 kB\u001b[0m \u001b[31m99.9 MB/s\u001b[0m eta \u001b[36m0:00:00\u001b[0m\n",
      "\u001b[?25hDownloading nvidia_cudnn_cu12-9.1.0.70-py3-none-manylinux2014_x86_64.whl (664.8 MB)\n",
      "\u001b[2K   \u001b[90m━━━━━━━━━━━━━━━━━━━━━━━━━━━━━━━━━━━━━━━━\u001b[0m \u001b[32m664.8/664.8 MB\u001b[0m \u001b[31m1.3 MB/s\u001b[0m eta \u001b[36m0:00:00\u001b[0m:00:01\u001b[0m00:01\u001b[0m\n",
      "\u001b[?25hDownloading nvidia_cufft_cu12-11.2.1.3-py3-none-manylinux2014_x86_64.whl (211.5 MB)\n",
      "\u001b[2K   \u001b[90m━━━━━━━━━━━━━━━━━━━━━━━━━━━━━━━━━━━━━━━━\u001b[0m \u001b[32m211.5/211.5 MB\u001b[0m \u001b[31m3.7 MB/s\u001b[0m eta \u001b[36m0:00:00\u001b[0m:00:01\u001b[0m00:01\u001b[0m\n",
      "\u001b[?25hDownloading nvidia_curand_cu12-10.3.5.147-py3-none-manylinux2014_x86_64.whl (56.3 MB)\n",
      "\u001b[2K   \u001b[90m━━━━━━━━━━━━━━━━━━━━━━━━━━━━━━━━━━━━━━━━\u001b[0m \u001b[32m56.3/56.3 MB\u001b[0m \u001b[31m19.6 MB/s\u001b[0m eta \u001b[36m0:00:00\u001b[0m00:01\u001b[0m00:01\u001b[0mm\n",
      "\u001b[?25hDownloading nvidia_cusolver_cu12-11.6.1.9-py3-none-manylinux2014_x86_64.whl (127.9 MB)\n",
      "\u001b[2K   \u001b[90m━━━━━━━━━━━━━━━━━━━━━━━━━━━━━━━━━━━━━━━━\u001b[0m \u001b[32m127.9/127.9 MB\u001b[0m \u001b[31m8.3 MB/s\u001b[0m eta \u001b[36m0:00:00\u001b[0m:00:01\u001b[0m00:01\u001b[0m\n",
      "\u001b[?25hDownloading nvidia_cusparse_cu12-12.3.1.170-py3-none-manylinux2014_x86_64.whl (207.5 MB)\n",
      "\u001b[2K   \u001b[90m━━━━━━━━━━━━━━━━━━━━━━━━━━━━━━━━━━━━━━━━\u001b[0m \u001b[32m207.5/207.5 MB\u001b[0m \u001b[31m4.8 MB/s\u001b[0m eta \u001b[36m0:00:00\u001b[0m:00:01\u001b[0m00:01\u001b[0m\n",
      "\u001b[?25hDownloading nvidia_nccl_cu12-2.21.5-py3-none-manylinux2014_x86_64.whl (188.7 MB)\n",
      "\u001b[2K   \u001b[90m━━━━━━━━━━━━━━━━━━━━━━━━━━━━━━━━━━━━━━━━\u001b[0m \u001b[32m188.7/188.7 MB\u001b[0m \u001b[31m4.7 MB/s\u001b[0m eta \u001b[36m0:00:00\u001b[0m:00:01\u001b[0m00:01\u001b[0m\n",
      "\u001b[?25hDownloading nvidia_nvjitlink_cu12-12.4.127-py3-none-manylinux2014_x86_64.whl (21.1 MB)\n",
      "\u001b[2K   \u001b[90m━━━━━━━━━━━━━━━━━━━━━━━━━━━━━━━━━━━━━━━━\u001b[0m \u001b[32m21.1/21.1 MB\u001b[0m \u001b[31m52.3 MB/s\u001b[0m eta \u001b[36m0:00:00\u001b[0m00:01\u001b[0m00:01\u001b[0mm\n",
      "\u001b[?25hDownloading nvidia_nvtx_cu12-12.4.127-py3-none-manylinux2014_x86_64.whl (99 kB)\n",
      "\u001b[2K   \u001b[90m━━━━━━━━━━━━━━━━━━━━━━━━━━━━━━━━━━━━━━━━\u001b[0m \u001b[32m99.1/99.1 kB\u001b[0m \u001b[31m20.7 MB/s\u001b[0m eta \u001b[36m0:00:00\u001b[0m\n",
      "\u001b[?25hDownloading sympy-1.13.1-py3-none-any.whl (6.2 MB)\n",
      "\u001b[2K   \u001b[90m━━━━━━━━━━━━━━━━━━━━━━━━━━━━━━━━━━━━━━━━\u001b[0m \u001b[32m6.2/6.2 MB\u001b[0m \u001b[31m114.1 MB/s\u001b[0m eta \u001b[36m0:00:00\u001b[0ma \u001b[36m0:00:01\u001b[0m\n",
      "\u001b[?25hDownloading triton-3.1.0-cp311-cp311-manylinux_2_17_x86_64.manylinux2014_x86_64.whl (209.5 MB)\n",
      "\u001b[2K   \u001b[90m━━━━━━━━━━━━━━━━━━━━━━━━━━━━━━━━━━━━━━━━\u001b[0m \u001b[32m209.5/209.5 MB\u001b[0m \u001b[31m5.0 MB/s\u001b[0m eta \u001b[36m0:00:00\u001b[0m:00:01\u001b[0m00:01\u001b[0m\n",
      "\u001b[?25hDownloading torchvision-0.20.1-cp311-cp311-manylinux1_x86_64.whl (7.2 MB)\n",
      "\u001b[2K   \u001b[90m━━━━━━━━━━━━━━━━━━━━━━━━━━━━━━━━━━━━━━━━\u001b[0m \u001b[32m7.2/7.2 MB\u001b[0m \u001b[31m134.3 MB/s\u001b[0m eta \u001b[36m0:00:00\u001b[0ma \u001b[36m0:00:01\u001b[0m\n",
      "\u001b[?25hInstalling collected packages: triton, sympy, nvidia-nvtx-cu12, nvidia-nvjitlink-cu12, nvidia-nccl-cu12, nvidia-curand-cu12, nvidia-cufft-cu12, nvidia-cuda-runtime-cu12, nvidia-cuda-nvrtc-cu12, nvidia-cuda-cupti-cu12, nvidia-cublas-cu12, nvidia-cusparse-cu12, nvidia-cudnn-cu12, nvidia-cusolver-cu12, torch, torchvision\n",
      "  Attempting uninstall: sympy\n",
      "    Found existing installation: sympy 1.12.1\n",
      "    Uninstalling sympy-1.12.1:\n",
      "      Successfully uninstalled sympy-1.12.1\n",
      "Successfully installed nvidia-cublas-cu12-12.4.5.8 nvidia-cuda-cupti-cu12-12.4.127 nvidia-cuda-nvrtc-cu12-12.4.127 nvidia-cuda-runtime-cu12-12.4.127 nvidia-cudnn-cu12-9.1.0.70 nvidia-cufft-cu12-11.2.1.3 nvidia-curand-cu12-10.3.5.147 nvidia-cusolver-cu12-11.6.1.9 nvidia-cusparse-cu12-12.3.1.170 nvidia-nccl-cu12-2.21.5 nvidia-nvjitlink-cu12-12.4.127 nvidia-nvtx-cu12-12.4.127 sympy-1.13.1 torch-2.5.1 torchvision-0.20.1 triton-3.1.0\n",
      "\u001b[33mWARNING: Running pip as the 'root' user can result in broken permissions and conflicting behaviour with the system package manager. It is recommended to use a virtual environment instead: https://pip.pypa.io/warnings/venv\u001b[0m\u001b[33m\n",
      "\u001b[0m"
     ]
    }
   ],
   "source": [
    "!pip install torch torchvision scikit-learn"
   ]
  },
  {
   "cell_type": "code",
   "execution_count": 19,
   "metadata": {
    "tags": []
   },
   "outputs": [
    {
     "ename": "ModuleNotFoundError",
     "evalue": "No module named 'torch'",
     "output_type": "error",
     "traceback": [
      "\u001b[0;31m---------------------------------------------------------------------------\u001b[0m",
      "\u001b[0;31mModuleNotFoundError\u001b[0m                       Traceback (most recent call last)",
      "Cell \u001b[0;32mIn[19], line 11\u001b[0m\n\u001b[1;32m      9\u001b[0m \u001b[38;5;28;01mimport\u001b[39;00m \u001b[38;5;21;01mpandas\u001b[39;00m \u001b[38;5;28;01mas\u001b[39;00m \u001b[38;5;21;01mpd\u001b[39;00m\n\u001b[1;32m     10\u001b[0m \u001b[38;5;28;01mimport\u001b[39;00m \u001b[38;5;21;01mnumpy\u001b[39;00m \u001b[38;5;28;01mas\u001b[39;00m \u001b[38;5;21;01mnp\u001b[39;00m\n\u001b[0;32m---> 11\u001b[0m \u001b[38;5;28;01mimport\u001b[39;00m \u001b[38;5;21;01mtorch\u001b[39;00m\n\u001b[1;32m     12\u001b[0m \u001b[38;5;28;01mfrom\u001b[39;00m \u001b[38;5;21;01mtorch\u001b[39;00m\u001b[38;5;21;01m.\u001b[39;00m\u001b[38;5;21;01mutils\u001b[39;00m\u001b[38;5;21;01m.\u001b[39;00m\u001b[38;5;21;01mdata\u001b[39;00m \u001b[38;5;28;01mimport\u001b[39;00m Dataset, DataLoader\n\u001b[1;32m     13\u001b[0m \u001b[38;5;28;01mfrom\u001b[39;00m \u001b[38;5;21;01msklearn\u001b[39;00m\u001b[38;5;21;01m.\u001b[39;00m\u001b[38;5;21;01mpreprocessing\u001b[39;00m \u001b[38;5;28;01mimport\u001b[39;00m LabelEncoder, OneHotEncoder, StandardScaler\n",
      "\u001b[0;31mModuleNotFoundError\u001b[0m: No module named 'torch'"
     ]
    }
   ],
   "source": [
    "'''\n",
    "Task 3\n",
    "\n",
    "Torch Model 1: Multinomial Logistic Regression\n",
    "with Hyperparameter tuning to find the best model using the paramgrid\n",
    "\n",
    "Data engineering taken from HW 6\n",
    "'''\n",
    "\n",
    "import pandas as pd\n",
    "import numpy as np\n",
    "import torch\n",
    "from torch.utils.data import Dataset, DataLoader\n",
    "from sklearn.preprocessing import LabelEncoder, OneHotEncoder, StandardScaler\n",
    "from sklearn.metrics import confusion_matrix, accuracy_score\n",
    "import torch.nn as nn\n",
    "import torch.optim as optim\n",
    "\n",
    "# Convert Spark DataFrames to Pandas DataFrames\n",
    "train_pd = train_df.toPandas()\n",
    "test_pd = test_df.toPandas()\n",
    "\n",
    "# Define columns\n",
    "binary_cols = ['mqtt_conflag_uname', 'mqtt_conflag_passwd', 'mqtt_conack_val']\n",
    "nominal_cols = ['mqtt_msgtype', 'tcp_flags', 'mqtt_hdrflags', 'mqtt_kalive']\n",
    "continuous_cols = ['tcp_time_delta', 'tcp_len', 'mqtt_len']\n",
    "label_col = 'target'  # Original target column\n",
    "\n",
    "# Feature Type Casting\n",
    "for col in binary_cols + continuous_cols:\n",
    "    train_pd[col] = pd.to_numeric(train_pd[col])\n",
    "    test_pd[col] = pd.to_numeric(test_pd[col])\n",
    "\n",
    "# Encode the Target Variable\n",
    "label_encoder = LabelEncoder()\n",
    "train_pd['label'] = label_encoder.fit_transform(train_pd[label_col])\n",
    "test_pd['label'] = label_encoder.transform(test_pd[label_col])\n",
    "\n",
    "# Drop original target column\n",
    "train_pd.drop(columns=[label_col], inplace=True)\n",
    "test_pd.drop(columns=[label_col], inplace=True)\n",
    "\n",
    "# Label Encoding and One-Hot Encoding for Nominal Features\n",
    "for col in nominal_cols:\n",
    "    le = LabelEncoder()\n",
    "    train_pd[col + '_index'] = le.fit_transform(train_pd[col])\n",
    "    test_pd[col + '_index'] = le.transform(test_pd[col])\n",
    "\n",
    "onehot_encoder = OneHotEncoder(sparse=False, handle_unknown='ignore')\n",
    "train_encoded = onehot_encoder.fit_transform(train_pd[[col + '_index' for col in nominal_cols]])\n",
    "test_encoded = onehot_encoder.transform(test_pd[[col + '_index' for col in nominal_cols]])\n",
    "\n",
    "nominal_onehot_cols = onehot_encoder.get_feature_names_out([col + '_index' for col in nominal_cols])\n",
    "train_onehot_df = pd.DataFrame(train_encoded, columns=nominal_onehot_cols)\n",
    "test_onehot_df = pd.DataFrame(test_encoded, columns=nominal_onehot_cols)\n",
    "\n",
    "train_onehot_df.reset_index(drop=True, inplace=True)\n",
    "test_onehot_df.reset_index(drop=True, inplace=True)\n",
    "\n",
    "# Assemble Features\n",
    "train_features = train_pd[continuous_cols + binary_cols].reset_index(drop=True)\n",
    "test_features = test_pd[continuous_cols + binary_cols].reset_index(drop=True)\n",
    "train_features = pd.concat([train_features, train_onehot_df], axis=1)\n",
    "test_features = pd.concat([test_features, test_onehot_df], axis=1)\n",
    "\n",
    "# Feature Scaling\n",
    "scaler = StandardScaler()\n",
    "train_features_scaled = scaler.fit_transform(train_features)\n",
    "test_features_scaled = scaler.transform(test_features)\n",
    "\n",
    "# Prepare Labels\n",
    "train_labels = train_pd['label'].values\n",
    "test_labels = test_pd['label'].values\n",
    "\n",
    "# Create PyTorch Datasets and DataLoaders\n",
    "class MQTTDataset(Dataset):\n",
    "    def __init__(self, features, labels):\n",
    "        self.X = torch.tensor(features, dtype=torch.float32)\n",
    "        self.y = torch.tensor(labels, dtype=torch.long)\n",
    "\n",
    "    def __len__(self):\n",
    "        return len(self.y)\n",
    "\n",
    "    def __getitem__(self, idx):\n",
    "        return self.X[idx], self.y[idx]\n",
    "\n",
    "batch_size = 256\n",
    "\n",
    "train_dataset = MQTTDataset(train_features_scaled, train_labels)\n",
    "test_dataset = MQTTDataset(test_features_scaled, test_labels)\n",
    "\n",
    "train_loader = DataLoader(train_dataset, batch_size=batch_size, shuffle=True)\n",
    "test_loader = DataLoader(test_dataset, batch_size=batch_size)\n",
    "\n",
    "# Define the Model\n",
    "input_size = train_features.shape[1]\n",
    "num_classes = len(label_encoder.classes_)\n",
    "\n",
    "class MultinomialLogisticRegression(nn.Module):\n",
    "    def __init__(self, input_size, num_classes):\n",
    "        super(MultinomialLogisticRegression, self).__init__()\n",
    "        self.linear = nn.Linear(input_size, num_classes)\n",
    "\n",
    "    def forward(self, x):\n",
    "        out = self.linear(x)\n",
    "        return out\n",
    "\n",
    "# Hyperparameter Tuning\n",
    "param_grid = [\n",
    "    {'lr': 0.01, 'num_epochs': 1},\n",
    "    {'lr': 0.1, 'num_epochs': 2},\n",
    "    {'lr': 1.0, 'num_epochs': 3}\n",
    "]\n",
    "\n",
    "best_torch_lr_accuracy = 0.0\n",
    "best_torch_lr_params = {}\n",
    "best_torch_lr_model_state = None\n",
    "\n",
    "for params in param_grid:\n",
    "    model = MultinomialLogisticRegression(input_size, num_classes)\n",
    "    criterion = nn.CrossEntropyLoss()\n",
    "    optimizer = optim.SGD(model.parameters(), lr=params['lr'])\n",
    "    num_epochs = params['num_epochs']\n",
    "    \n",
    "    # Training Loop\n",
    "    for epoch in range(num_epochs):\n",
    "        model.train()\n",
    "        for batch_X, batch_y in train_loader:\n",
    "            optimizer.zero_grad()\n",
    "            outputs = model(batch_X)\n",
    "            loss = criterion(outputs, batch_y)\n",
    "            loss.backward()\n",
    "            optimizer.step()\n",
    "\n",
    "    # Evaluation\n",
    "    model.eval()\n",
    "    with torch.no_grad():\n",
    "        all_preds = []\n",
    "        all_labels = []\n",
    "        for batch_X, batch_y in test_loader:\n",
    "            outputs = model(batch_X)\n",
    "            _, predicted = torch.max(outputs.data, 1)\n",
    "            all_preds.extend(predicted.cpu().numpy())\n",
    "            all_labels.extend(batch_y.cpu().numpy())\n",
    "    accuracy = accuracy_score(all_labels, all_preds)\n",
    "    print(f\"Parameters: lr={params['lr']}, num_epochs={params['num_epochs']}, Accuracy: {accuracy:.4f}\")\n",
    "\n",
    "    if accuracy > best_accuracy:\n",
    "        best_torch_lr_accuracy = accuracy\n",
    "        best_torch_lr_params = params\n",
    "        best_torch_lr_model_state = model.state_dict()\n",
    "\n",
    "print(f\"Best Parameters: lr={best_torch_lr_params['lr']}, num_epochs={best_torch_lr_params['num_epochs']}\")\n",
    "print(f\"Best Test Accuracy: {best_torch_lr_accuracy:.4f}\")\n",
    "\n",
    "# Load the best model state\n",
    "model.load_state_dict(best_torch_lr_model_state)\n",
    "\n",
    "# Confusion Matrix for the best model\n",
    "cm = confusion_matrix(all_labels, all_preds)\n",
    "print('Confusion Matrix:')\n",
    "print(cm)\n"
   ]
  },
  {
   "cell_type": "code",
   "execution_count": null,
   "metadata": {},
   "outputs": [],
   "source": []
  }
 ],
 "metadata": {
  "kernelspec": {
   "display_name": "Python 3",
   "language": "python",
   "name": "python3"
  },
  "language_info": {
   "codemirror_mode": {
    "name": "ipython",
    "version": 3
   },
   "file_extension": ".py",
   "mimetype": "text/x-python",
   "name": "python",
   "nbconvert_exporter": "python",
   "pygments_lexer": "ipython3",
   "version": "3.11.8"
  }
 },
 "nbformat": 4,
 "nbformat_minor": 4
}
