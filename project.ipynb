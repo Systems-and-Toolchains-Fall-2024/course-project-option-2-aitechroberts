{
 "cells": [
  {
   "cell_type": "code",
   "execution_count": null,
   "metadata": {},
   "outputs": [],
   "source": [
    "'''\n",
    "Task 1\n",
    "Fetch MQTTset from Kaggle\n",
    "'''\n",
    "import os\n",
    "from kaggle.api.kaggle_api_extended import KaggleApi\n",
    "\n",
    "# Authenticate using Kaggle API\n",
    "api = KaggleApi()\n",
    "api.authenticate()\n",
    "\n",
    "# Download the dataset\n",
    "dataset = 'cnrieiit/mqttset'\n",
    "api.dataset_download_files(dataset, path='.', unzip=True)"
   ]
  },
  {
   "cell_type": "code",
   "execution_count": 1,
   "metadata": {},
   "outputs": [
    {
     "name": "stderr",
     "output_type": "stream",
     "text": [
      "your 131072x1 screen size is bogus. expect trouble\n",
      "24/10/11 20:49:51 WARN Utils: Your hostname, Jonathan-Laptop resolves to a loopback address: 127.0.1.1; using 10.255.255.254 instead (on interface lo)\n",
      "24/10/11 20:49:51 WARN Utils: Set SPARK_LOCAL_IP if you need to bind to another address\n",
      "24/10/11 20:49:52 WARN NativeCodeLoader: Unable to load native-hadoop library for your platform... using builtin-java classes where applicable\n",
      "Setting default log level to \"WARN\".\n",
      "To adjust logging level use sc.setLogLevel(newLevel). For SparkR, use setLogLevel(newLevel).\n"
     ]
    }
   ],
   "source": [
    "'''\n",
    "Task 1\n",
    "Setup SparkSession and test connection to Postgres\n",
    "'''\n",
    "import pyspark\n",
    "from pyspark.sql import SparkSession\n",
    "from pyspark.sql.functions import lit \n",
    "\n",
    "\n",
    "# Define dataset, spark constants\n",
    "APPNAME = 'Roberts_Systool_Project'\n",
    "MASTER = 'local[3]'\n",
    "JDBC_JAR_PATH = f\"/home/jrob/.cache/pypoetry/virtualenvs/systems-toolchains-C8y3MhrL-py3.10/lib/python3.10/site-packages/pyspark/jars/postgresql-42.7.4.jar\"\n",
    "JDBC_URL = \"jdbc:postgresql://localhost:5432/postgres\"\n",
    "DB_PROPERTIES = {\n",
    "    \"user\": \"postgres\",\n",
    "    \"password\": \"postgres_pw\",\n",
    "    \"driver\": \"org.postgresql.Driver\"\n",
    "}\n",
    "\n",
    "# Initialize Spark session with PostgreSQL JDBC driver\n",
    "spark = SparkSession.builder \\\n",
    "    .appName(APPNAME) \\\n",
    "    .master(MASTER)\\\n",
    "    .config('spark.driver.host','127.0.0.1')\\\n",
    "    .config(\"spark.jars\", JDBC_JAR_PATH) \\\n",
    "    .config(\"spark.driver.memory\", \"4g\") \\\n",
    "    .config(\"spark.executor.memory\", \"2g\") \\\n",
    "    .getOrCreate()\n",
    "\n",
    "# df = spark.read.jdbc(url=JDBC_URL, table=\"mqtt\", properties=DB_PROPERTIES)\n",
    "# df.show()"
   ]
  },
  {
   "cell_type": "code",
   "execution_count": 18,
   "metadata": {},
   "outputs": [
    {
     "name": "stderr",
     "output_type": "stream",
     "text": [
      "                                                                                \r"
     ]
    },
    {
     "name": "stdout",
     "output_type": "stream",
     "text": [
      "+----------+--------------+-------+-----------------+--------------------------+--------------------+---------------+----------------------+-------------------+----------------+---------------------+-------------------+------------------+---------------------+-------------+------------+-------------+-----------+--------+--------+----------+------------+--------------+--------------+--------+-----------+------------+---------------+--------+------------+----------------+--------------+------------------+----------+--------+\n",
      "| tcp.flags|tcp.time_delta|tcp.len|mqtt.conack.flags|mqtt.conack.flags.reserved|mqtt.conack.flags.sp|mqtt.conack.val|mqtt.conflag.cleansess|mqtt.conflag.passwd|mqtt.conflag.qos|mqtt.conflag.reserved|mqtt.conflag.retain|mqtt.conflag.uname|mqtt.conflag.willflag|mqtt.conflags|mqtt.dupflag|mqtt.hdrflags|mqtt.kalive|mqtt.len|mqtt.msg|mqtt.msgid|mqtt.msgtype|mqtt.proto_len|mqtt.protoname|mqtt.qos|mqtt.retain|mqtt.sub.qos|mqtt.suback.qos|mqtt.ver|mqtt.willmsg|mqtt.willmsg_len|mqtt.willtopic|mqtt.willtopic_len|    target|set_type|\n",
      "+----------+--------------+-------+-----------------+--------------------------+--------------------+---------------+----------------------+-------------------+----------------+---------------------+-------------------+------------------+---------------------+-------------+------------+-------------+-----------+--------+--------+----------+------------+--------------+--------------+--------+-----------+------------+---------------+--------+------------+----------------+--------------+------------------+----------+--------+\n",
      "|0x00000018|       1.41E-4|     13|                0|                       0.0|                 0.0|            0.0|                   0.0|                0.0|             0.0|                  0.0|                0.0|               0.0|                  0.0|            0|         0.0|   0x00000030|        0.0|    11.0|      32|       0.0|         3.0|           0.0|             0|     0.0|        0.0|         0.0|            0.0|     0.0|         0.0|             0.0|           0.0|               0.0|legitimate|   train|\n",
      "|0x00000018|      0.998962|     13|                0|                       0.0|                 0.0|            0.0|                   0.0|                0.0|             0.0|                  0.0|                0.0|               0.0|                  0.0|            0|         0.0|   0x00000030|        0.0|    11.0|      30|       0.0|         3.0|           0.0|             0|     0.0|        0.0|         0.0|            0.0|     0.0|         0.0|             0.0|           0.0|               0.0|legitimate|   train|\n",
      "|0x00000010|        7.0E-6|      0|                0|                       0.0|                 0.0|            0.0|                   0.0|                0.0|             0.0|                  0.0|                0.0|               0.0|                  0.0|            0|         0.0|            0|        0.0|     0.0|       0|       0.0|         0.0|           0.0|             0|     0.0|        0.0|         0.0|            0.0|     0.0|         0.0|             0.0|           0.0|               0.0|legitimate|   train|\n",
      "|0x00000018|       1.41E-4|     13|                0|                       0.0|                 0.0|            0.0|                   0.0|                0.0|             0.0|                  0.0|                0.0|               0.0|                  0.0|            0|         0.0|   0x00000030|        0.0|    11.0|      31|       0.0|         3.0|           0.0|             0|     0.0|        0.0|         0.0|            0.0|     0.0|         0.0|             0.0|           0.0|               0.0|legitimate|   train|\n",
      "|0x00000010|        9.0E-6|      0|                0|                       0.0|                 0.0|            0.0|                   0.0|                0.0|             0.0|                  0.0|                0.0|               0.0|                  0.0|            0|         0.0|            0|        0.0|     0.0|       0|       0.0|         0.0|           0.0|             0|     0.0|        0.0|         0.0|            0.0|     0.0|         0.0|             0.0|           0.0|               0.0|legitimate|   train|\n",
      "+----------+--------------+-------+-----------------+--------------------------+--------------------+---------------+----------------------+-------------------+----------------+---------------------+-------------------+------------------+---------------------+-------------+------------+-------------+-----------+--------+--------+----------+------------+--------------+--------------+--------+-----------+------------+---------------+--------+------------+----------------+--------------+------------------+----------+--------+\n",
      "only showing top 5 rows\n",
      "\n"
     ]
    },
    {
     "name": "stderr",
     "output_type": "stream",
     "text": [
      "                                                                                \r"
     ]
    },
    {
     "name": "stdout",
     "output_type": "stream",
     "text": [
      "+----------+--------------+-------+-----------------+--------------------------+--------------------+---------------+----------------------+-------------------+----------------+---------------------+-------------------+------------------+---------------------+-------------+------------+-------------+-----------+--------+--------+----------+------------+--------------+--------------+--------+-----------+------------+---------------+--------+------------+----------------+--------------+------------------+----------+--------+\n",
      "| tcp.flags|tcp.time_delta|tcp.len|mqtt.conack.flags|mqtt.conack.flags.reserved|mqtt.conack.flags.sp|mqtt.conack.val|mqtt.conflag.cleansess|mqtt.conflag.passwd|mqtt.conflag.qos|mqtt.conflag.reserved|mqtt.conflag.retain|mqtt.conflag.uname|mqtt.conflag.willflag|mqtt.conflags|mqtt.dupflag|mqtt.hdrflags|mqtt.kalive|mqtt.len|mqtt.msg|mqtt.msgid|mqtt.msgtype|mqtt.proto_len|mqtt.protoname|mqtt.qos|mqtt.retain|mqtt.sub.qos|mqtt.suback.qos|mqtt.ver|mqtt.willmsg|mqtt.willmsg_len|mqtt.willtopic|mqtt.willtopic_len|    target|set_type|\n",
      "+----------+--------------+-------+-----------------+--------------------------+--------------------+---------------+----------------------+-------------------+----------------+---------------------+-------------------+------------------+---------------------+-------------+------------+-------------+-----------+--------+--------+----------+------------+--------------+--------------+--------+-----------+------------+---------------+--------+------------+----------------+--------------+------------------+----------+--------+\n",
      "|0x00000018|      0.998772|     10|                0|                       0.0|                 0.0|            0.0|                   0.0|                0.0|             0.0|                  0.0|                0.0|               0.0|                  0.0|            0|         0.0|   0x00000030|        0.0|     8.0|      30|       0.0|         3.0|           0.0|             0|     0.0|        0.0|         0.0|            0.0|     0.0|         0.0|             0.0|           0.0|               0.0|legitimate|    test|\n",
      "|0x00000018|      1.000038|     13|                0|                       0.0|                 0.0|            0.0|                   0.0|                0.0|             0.0|                  0.0|                0.0|               0.0|                  0.0|            0|         0.0|   0x00000030|        0.0|    11.0|      31|       0.0|         3.0|           0.0|             0|     0.0|        0.0|         0.0|            0.0|     0.0|         0.0|             0.0|           0.0|               0.0|legitimate|    test|\n",
      "|0x00000018|       1.57E-4|     10|                0|                       0.0|                 0.0|            0.0|                   0.0|                0.0|             0.0|                  0.0|                0.0|               0.0|                  0.0|            0|         0.0|   0x00000030|        0.0|     8.0|      32|       0.0|         3.0|           0.0|             0|     0.0|        0.0|         0.0|            0.0|     0.0|         0.0|             0.0|           0.0|               0.0|legitimate|    test|\n",
      "|0x00000018|        9.2E-5|     13|                0|                       0.0|                 0.0|            0.0|                   0.0|                0.0|             0.0|                  0.0|                0.0|               0.0|                  0.0|            0|         0.0|   0x00000030|        0.0|    11.0|      30|       0.0|         3.0|           0.0|             0|     0.0|        0.0|         0.0|            0.0|     0.0|         0.0|             0.0|           0.0|               0.0|legitimate|    test|\n",
      "|0x00000018|        7.5E-5|      2|                0|                       0.0|                 0.0|            0.0|                   0.0|                0.0|             0.0|                  0.0|                0.0|               0.0|                  0.0|            0|         0.0|   0x000000d0|        0.0|     0.0|       0|       0.0|        13.0|           0.0|             0|     0.0|        0.0|         0.0|            0.0|     0.0|         0.0|             0.0|           0.0|               0.0|legitimate|    test|\n",
      "+----------+--------------+-------+-----------------+--------------------------+--------------------+---------------+----------------------+-------------------+----------------+---------------------+-------------------+------------------+---------------------+-------------+------------+-------------+-----------+--------+--------+----------+------------+--------------+--------------+--------+-----------+------------+---------------+--------+------------+----------------+--------------+------------------+----------+--------+\n",
      "only showing top 5 rows\n",
      "\n"
     ]
    },
    {
     "name": "stderr",
     "output_type": "stream",
     "text": [
      "                                                                                \r"
     ]
    }
   ],
   "source": [
    "'''\n",
    "Task 1\n",
    "Ingest data with Spark and write to Postgres\n",
    "\n",
    "Creates a dictionary for data files and associated data category,\n",
    "then loops over both values using .items() method\n",
    "\n",
    "In the loop, it dynamically changes the data category and write mode\n",
    "based on where the code executes in the loop. First loop overwrites\n",
    "to create table and schema if not already exists. Second loop appends\n",
    "'''\n",
    "\n",
    "DATA_FOLDER = \"./data/FINAL_CSV\" # won't change due to mqttset zip\n",
    "\n",
    "data_files = {\n",
    "    'train70.csv': 'train',\n",
    "    'test30.csv': 'test'\n",
    "}\n",
    "overwrite = True\n",
    "for file, set_type_value in data_files.items():\n",
    "    file_path = os.path.join(DATA_FOLDER, file)\n",
    "    \n",
    "    # Read CSV file\n",
    "    df = spark.read.csv(file_path, header=True, inferSchema=True)\n",
    "    \n",
    "    # Add 'set_type' column and dataset value of 'train' or 'test' based on place in dictionary loop\n",
    "    df = df.withColumn('set_type', lit(set_type_value))\n",
    "    \n",
    "    df.repartition(6)\n",
    "    # Show first 5 rows for verification\n",
    "    df.show(5)\n",
    "    \n",
    "    # Overwrite on the first loop and append on the rest\n",
    "    write_mode = 'overwrite' if overwrite else 'append'\n",
    "    \n",
    "    # Write data to Postgres\n",
    "    df.write.jdbc(url=JDBC_URL, \n",
    "                  table=\"mqtt\", \n",
    "                  mode=write_mode, \n",
    "                  properties=DB_PROPERTIES\n",
    "                  batchsize=10000\n",
    "                  )\n",
    "    \n",
    "    # Set overwrite to False after the first write\n",
    "    if overwrite:\n",
    "        overwrite = False"
   ]
  },
  {
   "cell_type": "code",
   "execution_count": null,
   "metadata": {},
   "outputs": [],
   "source": [
    "spark.stop()"
   ]
  },
  {
   "cell_type": "code",
   "execution_count": 2,
   "metadata": {},
   "outputs": [],
   "source": [
    "'''\n",
    "Task 2\n",
    "Ingest Data from Postgres into Spark for Data Analysis\n",
    "'''\n",
    "num_partitions = 6 # Adjust based on your environment\n",
    "mqtt_df = spark.read.jdbc(url=JDBC_URL,\n",
    "                          table=\"mqtt\",\n",
    "                          properties=DB_PROPERTIES,\n",
    "                          numPartitions=num_partitions,\n",
    "                          )\n"
   ]
  },
  {
   "cell_type": "code",
   "execution_count": 3,
   "metadata": {},
   "outputs": [
    {
     "name": "stderr",
     "output_type": "stream",
     "text": [
      "[Stage 0:>                                                          (0 + 1) / 1]\r"
     ]
    },
    {
     "name": "stdout",
     "output_type": "stream",
     "text": [
      "Shape: 12081189, 35\n"
     ]
    },
    {
     "name": "stderr",
     "output_type": "stream",
     "text": [
      "                                                                                \r"
     ]
    }
   ],
   "source": [
    "# Number of rows\n",
    "num_rows = mqtt_df.count()\n",
    "\n",
    "# Number of columns\n",
    "num_cols = len(mqtt_df.columns)\n",
    "\n",
    "print(f\"Shape: {num_rows}, {num_cols}\")"
   ]
  },
  {
   "cell_type": "code",
   "execution_count": 4,
   "metadata": {},
   "outputs": [
    {
     "name": "stdout",
     "output_type": "stream",
     "text": [
      "root\n",
      " |-- tcp.flags: string (nullable = true)\n",
      " |-- tcp.time_delta: double (nullable = true)\n",
      " |-- tcp.len: integer (nullable = true)\n",
      " |-- mqtt.conack.flags: string (nullable = true)\n",
      " |-- mqtt.conack.flags.reserved: double (nullable = true)\n",
      " |-- mqtt.conack.flags.sp: double (nullable = true)\n",
      " |-- mqtt.conack.val: double (nullable = true)\n",
      " |-- mqtt.conflag.cleansess: double (nullable = true)\n",
      " |-- mqtt.conflag.passwd: double (nullable = true)\n",
      " |-- mqtt.conflag.qos: double (nullable = true)\n",
      " |-- mqtt.conflag.reserved: double (nullable = true)\n",
      " |-- mqtt.conflag.retain: double (nullable = true)\n",
      " |-- mqtt.conflag.uname: double (nullable = true)\n",
      " |-- mqtt.conflag.willflag: double (nullable = true)\n",
      " |-- mqtt.conflags: string (nullable = true)\n",
      " |-- mqtt.dupflag: double (nullable = true)\n",
      " |-- mqtt.hdrflags: string (nullable = true)\n",
      " |-- mqtt.kalive: double (nullable = true)\n",
      " |-- mqtt.len: double (nullable = true)\n",
      " |-- mqtt.msg: string (nullable = true)\n",
      " |-- mqtt.msgid: double (nullable = true)\n",
      " |-- mqtt.msgtype: double (nullable = true)\n",
      " |-- mqtt.proto_len: double (nullable = true)\n",
      " |-- mqtt.protoname: string (nullable = true)\n",
      " |-- mqtt.qos: double (nullable = true)\n",
      " |-- mqtt.retain: double (nullable = true)\n",
      " |-- mqtt.sub.qos: double (nullable = true)\n",
      " |-- mqtt.suback.qos: double (nullable = true)\n",
      " |-- mqtt.ver: double (nullable = true)\n",
      " |-- mqtt.willmsg: double (nullable = true)\n",
      " |-- mqtt.willmsg_len: double (nullable = true)\n",
      " |-- mqtt.willtopic: double (nullable = true)\n",
      " |-- mqtt.willtopic_len: double (nullable = true)\n",
      " |-- target: string (nullable = true)\n",
      " |-- set_type: string (nullable = true)\n",
      "\n"
     ]
    }
   ],
   "source": [
    "mqtt_df.printSchema()"
   ]
  }
 ],
 "metadata": {
  "kernelspec": {
   "display_name": "systems-toolchains-C8y3MhrL-py3.10",
   "language": "python",
   "name": "python3"
  },
  "language_info": {
   "codemirror_mode": {
    "name": "ipython",
    "version": 3
   },
   "file_extension": ".py",
   "mimetype": "text/x-python",
   "name": "python",
   "nbconvert_exporter": "python",
   "pygments_lexer": "ipython3",
   "version": "3.10.12"
  }
 },
 "nbformat": 4,
 "nbformat_minor": 2
}
