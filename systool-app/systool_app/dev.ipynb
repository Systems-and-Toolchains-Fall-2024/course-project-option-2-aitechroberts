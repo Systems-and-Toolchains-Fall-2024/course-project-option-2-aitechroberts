{
 "cells": [
  {
   "cell_type": "code",
   "execution_count": null,
   "metadata": {},
   "outputs": [],
   "source": [
    "from google.cloud import dataproc_v1\n",
    "from google.protobuf.duration_pb2 import Duration\n",
    "\n",
    "# Function to submit a PySpark job to the Dataproc cluster\n",
    "def submit_pyspark_job(cluster_name, project_id, region, gcs_bucket, input_path, output_path, database, username, password):\n",
    "    job_client = dataproc_v1.JobControllerClient(\n",
    "        client_options={\"api_endpoint\": f\"{region}-dataproc.googleapis.com:443\"},\n",
    "        credentials=credentials\n",
    "    )\n",
    "    \n",
    "    # Define PySpark job\n",
    "    job = {\n",
    "        \"placement\": {\"cluster_name\": self.cluster_name},\n",
    "        \"pyspark_job\": {\n",
    "                    \"main_python_file_uri\": f\"gs://{self.gcs_bucket}/pyspark_job.py\",\n",
    "                    \"jar_file_uris\": [\n",
    "                        f\"gs://{self.gcs_bucket}/postgresql-42.3.1.jar\",\n",
    "                        f\"gs://{self.gcs_bucket}/postgres-socket-factory-1.20.1.jar\",\n",
    "                        f\"gs://{self.gcs_bucket}/jdbc-socket-factory-core-1.20.1.jar\",\n",
    "                        f\"gs://{self.gcs_bucket}/google-auth-library-credentials-1.24.1.jar\",\n",
    "                        f\"gs://{self.gcs_bucket}/google-auth-library-oauth2-http-1.24.1.jar\"\n",
    "                    ],\n",
    "                    \"args\": [input_path, output_path, self.database, self.username, self.password],\n",
    "                },\n",
    "            }\n",
    "    \n",
    "    # Submit the job to Dataproc\n",
    "    operation = job_client.submit_job_as_operation(\n",
    "        request={\"project_id\": project_id, \"region\": region, \"job\": job}\n",
    "    )\n",
    "    \n",
    "    response = operation.result(timeout=600)  # Wait for job completion\n",
    "    return response\n"
   ]
  }
 ],
 "metadata": {
  "language_info": {
   "name": "python"
  }
 },
 "nbformat": 4,
 "nbformat_minor": 2
}
